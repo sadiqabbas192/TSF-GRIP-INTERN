{
  "nbformat": 4,
  "nbformat_minor": 0,
  "metadata": {
    "kernelspec": {
      "display_name": "Python 3",
      "language": "python",
      "name": "python3"
    },
    "language_info": {
      "codemirror_mode": {
        "name": "ipython",
        "version": 3
      },
      "file_extension": ".py",
      "mimetype": "text/x-python",
      "name": "python",
      "nbconvert_exporter": "python",
      "pygments_lexer": "ipython3",
      "version": "3.8.5"
    },
    "colab": {
      "name": "TASK7-Stock Market Prediction & Analysis.ipynb",
      "provenance": [],
      "collapsed_sections": [
        "vXtAETCG8IZh",
        "Qci5UZ83itAT",
        "QwXlSKdei2Fx"
      ]
    }
  },
  "cells": [
    {
      "cell_type": "markdown",
      "metadata": {
        "id": "vXtAETCG8IZh"
      },
      "source": [
        "#**IMPORTS**"
      ]
    },
    {
      "cell_type": "code",
      "metadata": {
        "colab": {
          "base_uri": "https://localhost:8080/"
        },
        "id": "DWv3Lj7Fe4w3",
        "outputId": "7c619311-5d5e-44c8-c149-d72e48a38a3b"
      },
      "source": [
        "from google.colab import drive\n",
        "drive.mount('/content/drive')"
      ],
      "execution_count": null,
      "outputs": [
        {
          "output_type": "stream",
          "text": [
            "Drive already mounted at /content/drive; to attempt to forcibly remount, call drive.mount(\"/content/drive\", force_remount=True).\n"
          ],
          "name": "stdout"
        }
      ]
    },
    {
      "cell_type": "code",
      "metadata": {
        "id": "qYMW9cCbHocq"
      },
      "source": [
        "# Import Libraries\n",
        "import numpy as np\n",
        "import matplotlib.pyplot as plt\n",
        "import pandas as pd"
      ],
      "execution_count": null,
      "outputs": []
    },
    {
      "cell_type": "code",
      "metadata": {
        "id": "7aJIN51MHocu"
      },
      "source": [
        "data1 = pd.read_csv(\"/content/drive/MyDrive/Colab Notebooks/GRIP/yahoo.csv\")\n",
        "apple_training_complete = data1"
      ],
      "execution_count": null,
      "outputs": []
    },
    {
      "cell_type": "markdown",
      "metadata": {
        "id": "QwXlSKdei2Fx"
      },
      "source": [
        "#**PART 1 - VISUAL ANALYSIS**"
      ]
    },
    {
      "cell_type": "code",
      "metadata": {
        "colab": {
          "base_uri": "https://localhost:8080/"
        },
        "id": "54NMH9vxlRLn",
        "outputId": "5dbf53c7-6445-42b2-867d-3d6479fb1edd"
      },
      "source": [
        "!pip install pmdarima"
      ],
      "execution_count": 108,
      "outputs": [
        {
          "output_type": "stream",
          "text": [
            "Requirement already satisfied: pmdarima in /usr/local/lib/python3.7/dist-packages (1.8.2)\n",
            "Requirement already satisfied: setuptools!=50.0.0,>=38.6.0 in /usr/local/lib/python3.7/dist-packages (from pmdarima) (56.1.0)\n",
            "Requirement already satisfied: statsmodels!=0.12.0,>=0.11 in /usr/local/lib/python3.7/dist-packages (from pmdarima) (0.12.2)\n",
            "Requirement already satisfied: scipy>=1.3.2 in /usr/local/lib/python3.7/dist-packages (from pmdarima) (1.4.1)\n",
            "Requirement already satisfied: pandas>=0.19 in /usr/local/lib/python3.7/dist-packages (from pmdarima) (1.1.5)\n",
            "Requirement already satisfied: joblib>=0.11 in /usr/local/lib/python3.7/dist-packages (from pmdarima) (1.0.1)\n",
            "Requirement already satisfied: scikit-learn>=0.22 in /usr/local/lib/python3.7/dist-packages (from pmdarima) (0.22.2.post1)\n",
            "Requirement already satisfied: Cython!=0.29.18,>=0.29 in /usr/local/lib/python3.7/dist-packages (from pmdarima) (0.29.23)\n",
            "Requirement already satisfied: numpy~=1.19.0 in /usr/local/lib/python3.7/dist-packages (from pmdarima) (1.19.5)\n",
            "Requirement already satisfied: urllib3 in /usr/local/lib/python3.7/dist-packages (from pmdarima) (1.24.3)\n",
            "Requirement already satisfied: patsy>=0.5 in /usr/local/lib/python3.7/dist-packages (from statsmodels!=0.12.0,>=0.11->pmdarima) (0.5.1)\n",
            "Requirement already satisfied: python-dateutil>=2.7.3 in /usr/local/lib/python3.7/dist-packages (from pandas>=0.19->pmdarima) (2.8.1)\n",
            "Requirement already satisfied: pytz>=2017.2 in /usr/local/lib/python3.7/dist-packages (from pandas>=0.19->pmdarima) (2018.9)\n",
            "Requirement already satisfied: six in /usr/local/lib/python3.7/dist-packages (from patsy>=0.5->statsmodels!=0.12.0,>=0.11->pmdarima) (1.15.0)\n"
          ],
          "name": "stdout"
        }
      ]
    },
    {
      "cell_type": "code",
      "metadata": {
        "id": "uRtEigKRjvOA"
      },
      "source": [
        "import itertools\n",
        "from statsmodels.tsa.stattools import adfuller, acf, pacf\n",
        "from statsmodels.tsa.arima_model import ARIMA\n",
        "from textblob import TextBlob\n",
        "from nltk.sentiment.vader import SentimentIntensityAnalyzer\n",
        "from nltk.stem.porter import PorterStemmer\n",
        "from sklearn.metrics import mean_squared_error\n",
        "from sklearn.model_selection import train_test_split\n",
        "from sklearn.ensemble import RandomForestRegressor, AdaBoostRegressor\n",
        "import xgboost \n",
        "import lightgbm"
      ],
      "execution_count": 109,
      "outputs": []
    },
    {
      "cell_type": "code",
      "metadata": {
        "colab": {
          "base_uri": "https://localhost:8080/"
        },
        "id": "bTila1QehzjT",
        "outputId": "8235e5ea-d82f-42e0-9cc0-64b60f2221b0"
      },
      "source": [
        "print(data1.head())\n",
        "print(data1.size)"
      ],
      "execution_count": 110,
      "outputs": [
        {
          "output_type": "stream",
          "text": [
            "         Date    Open    High     Low   Close  Adj Close  Volume\n",
            "0  2001-01-02  1.4375  1.5625  1.3125  1.4375   1.294107   26600\n",
            "1  2001-01-03  1.4375  1.4375  1.4375  1.4375   1.294107   18300\n",
            "2  2001-01-04  1.3125  1.5625  1.3125  1.5000   1.350373   17700\n",
            "3  2001-01-05  1.5000  1.6875  1.5000  1.6875   1.519169   13000\n",
            "4  2001-01-08  1.6875  2.0000  1.6875  2.0000   1.800497   60200\n",
            "35882\n"
          ],
          "name": "stdout"
        }
      ]
    },
    {
      "cell_type": "code",
      "metadata": {
        "colab": {
          "base_uri": "https://localhost:8080/"
        },
        "id": "1kLvq4nciZIV",
        "outputId": "39ee9193-60b0-49d9-9733-e228f1b453ea"
      },
      "source": [
        "#Converting Date column to datetime datatype\n",
        "data1['Date'] = pd.to_datetime(data1['Date'])\n",
        "data1.info()"
      ],
      "execution_count": 111,
      "outputs": [
        {
          "output_type": "stream",
          "text": [
            "<class 'pandas.core.frame.DataFrame'>\n",
            "RangeIndex: 5126 entries, 0 to 5125\n",
            "Data columns (total 7 columns):\n",
            " #   Column     Non-Null Count  Dtype         \n",
            "---  ------     --------------  -----         \n",
            " 0   Date       5126 non-null   datetime64[ns]\n",
            " 1   Open       5126 non-null   float64       \n",
            " 2   High       5126 non-null   float64       \n",
            " 3   Low        5126 non-null   float64       \n",
            " 4   Close      5126 non-null   float64       \n",
            " 5   Adj Close  5126 non-null   float64       \n",
            " 6   Volume     5126 non-null   int64         \n",
            "dtypes: datetime64[ns](1), float64(5), int64(1)\n",
            "memory usage: 280.5 KB\n"
          ],
          "name": "stdout"
        }
      ]
    },
    {
      "cell_type": "code",
      "metadata": {
        "colab": {
          "base_uri": "https://localhost:8080/",
          "height": 391
        },
        "id": "1YdKOVKLib5Z",
        "outputId": "a1ff4cf0-bf4b-4f23-ed5a-9fb58db916dd"
      },
      "source": [
        "data1.dropna(inplace = True)\n",
        "plt.figure(figsize=(10, 6))\n",
        "data1['Close'].plot()\n",
        "plt.ylabel('Close')"
      ],
      "execution_count": 112,
      "outputs": [
        {
          "output_type": "execute_result",
          "data": {
            "text/plain": [
              "Text(0, 0.5, 'Close')"
            ]
          },
          "metadata": {
            "tags": []
          },
          "execution_count": 112
        },
        {
          "output_type": "display_data",
          "data": {
            "image/png": "[encoded data removed]",
            "text/plain": [
              "<Figure size 720x432 with 1 Axes>"
            ]
          },
          "metadata": {
            "tags": [],
            "needs_background": "light"
          }
        }
      ]
    },
    {
      "cell_type": "code",
      "metadata": {
        "colab": {
          "base_uri": "https://localhost:8080/",
          "height": 391
        },
        "id": "rigRf3mwi67R",
        "outputId": "ca3819e9-10b2-45dc-b7ae-325ba2071c20"
      },
      "source": [
        "#Plotting moving average\n",
        "close = data1['Close']\n",
        "ma = close.rolling(window = 50).mean()\n",
        "std = close.rolling(window = 50).std()\n",
        "\n",
        "plt.figure(figsize=(10, 6))\n",
        "data1['Close'].plot(color = 'b', label = 'Close')\n",
        "ma.plot(color = 'r', label = 'Rolling Mean')\n",
        "std.plot(label = 'Rolling Standard Deviation')\n",
        "plt.legend()"
      ],
      "execution_count": 113,
      "outputs": [
        {
          "output_type": "execute_result",
          "data": {
            "text/plain": [
              "<matplotlib.legend.Legend at 0x7f59c260d5d0>"
            ]
          },
          "metadata": {
            "tags": []
          },
          "execution_count": 113
        },
        {
          "output_type": "display_data",
          "data": {
            "image/png": "[encoded data removed]",
            "text/plain": [
              "<Figure size 720x432 with 1 Axes>"
            ]
          },
          "metadata": {
            "tags": [],
            "needs_background": "light"
          }
        }
      ]
    },
    {
      "cell_type": "code",
      "metadata": {
        "colab": {
          "base_uri": "https://localhost:8080/",
          "height": 407
        },
        "id": "YnA0KSwPjCD9",
        "outputId": "d19164fc-b5fa-42bd-8417-4459f9882a91"
      },
      "source": [
        "#Plotting returns\n",
        "returns = close / close.shift(1) - 1\n",
        "\n",
        "plt.figure(figsize = (10,6))\n",
        "returns.plot(label='Return', color = 'g')\n",
        "plt.title(\"Returns\")"
      ],
      "execution_count": 114,
      "outputs": [
        {
          "output_type": "execute_result",
          "data": {
            "text/plain": [
              "Text(0.5, 1.0, 'Returns')"
            ]
          },
          "metadata": {
            "tags": []
          },
          "execution_count": 114
        },
        {
          "output_type": "display_data",
          "data": {
            "image/png": "[encoded data removed]",
            "text/plain": [
              "<Figure size 720x432 with 1 Axes>"
            ]
          },
          "metadata": {
            "tags": [],
            "needs_background": "light"
          }
        }
      ]
    },
    {
      "cell_type": "code",
      "metadata": {
        "id": "EjFGuP28jNin"
      },
      "source": [
        "train = data1[:1000]\n",
        "test = data1[1000:]"
      ],
      "execution_count": 115,
      "outputs": []
    },
    {
      "cell_type": "code",
      "metadata": {
        "colab": {
          "base_uri": "https://localhost:8080/",
          "height": 619
        },
        "id": "_ecnQlJtjQIP",
        "outputId": "2fb12b83-1199-498f-ac24-513b92980cd6"
      },
      "source": [
        "#Stationarity test\n",
        "def test_stationarity(timeseries):\n",
        "\n",
        " #Determing rolling statistics\n",
        " rolmean = timeseries.rolling(20).mean()\n",
        " rolstd = timeseries.rolling(20).std()\n",
        "\n",
        " #Plot rolling statistics:\n",
        " plt.figure(figsize = (10,8))\n",
        " plt.plot(timeseries, color = 'y', label = 'original')\n",
        " plt.plot(rolmean, color = 'r', label = 'rolling mean')\n",
        " plt.plot(rolstd, color = 'b', label = 'rolling std')\n",
        " plt.xlabel('Date')\n",
        " plt.legend()\n",
        " plt.title('Rolling Mean and Standard Deviation',  fontsize = 20)\n",
        " plt.show(block = False)\n",
        " \n",
        " print('Results of dickey fuller test')\n",
        " result = adfuller(timeseries, autolag = 'AIC')\n",
        " labels = ['ADF Test Statistic','p-value','#Lags Used','Number of Observations Used']\n",
        " for value,label in zip(result, labels):\n",
        "   print(label+' : '+str(value) )\n",
        " if result[1] <= 0.05:\n",
        "   print(\"Strong evidence against the null hypothesis(Ho), reject the null hypothesis. Data is stationary\")\n",
        " else:\n",
        "   print(\"Weak evidence against null hypothesis, time series is non-stationary \")\n",
        "test_stationarity(train['Close'])"
      ],
      "execution_count": 116,
      "outputs": [
        {
          "output_type": "display_data",
          "data": {
            "image/png": "[encoded data removed]",
            "text/plain": [
              "<Figure size 720x576 with 1 Axes>"
            ]
          },
          "metadata": {
            "tags": [],
            "needs_background": "light"
          }
        },
        {
          "output_type": "stream",
          "text": [
            "Results of dickey fuller test\n",
            "ADF Test Statistic : -2.482078498110057\n",
            "p-value : 0.11989593316783526\n",
            "#Lags Used : 7\n",
            "Number of Observations Used : 992\n",
            "Weak evidence against null hypothesis, time series is non-stationary \n"
          ],
          "name": "stdout"
        }
      ]
    },
    {
      "cell_type": "code",
      "metadata": {
        "colab": {
          "base_uri": "https://localhost:8080/",
          "height": 619
        },
        "id": "PLMXh1PPjg7X",
        "outputId": "5d1e08c3-68f6-4233-cac7-a29c9fbf8b8a"
      },
      "source": [
        "train_log = np.log(train['Close']) \n",
        "test_log = np.log(test['Close'])\n",
        "\n",
        "mav = train_log.rolling(24).mean() \n",
        "\n",
        "train_log_diff = train_log - mav\n",
        "train_log_diff.dropna(inplace = True)\n",
        "\n",
        "test_stationarity(train_log_diff)"
      ],
      "execution_count": 117,
      "outputs": [
        {
          "output_type": "display_data",
          "data": {
            "image/png": "[encoded data removed]",
            "text/plain": [
              "<Figure size 720x576 with 1 Axes>"
            ]
          },
          "metadata": {
            "tags": [],
            "needs_background": "light"
          }
        },
        {
          "output_type": "stream",
          "text": [
            "Results of dickey fuller test\n",
            "ADF Test Statistic : -6.188168739501953\n",
            "p-value : 6.21566068944199e-08\n",
            "#Lags Used : 7\n",
            "Number of Observations Used : 969\n",
            "Strong evidence against the null hypothesis(Ho), reject the null hypothesis. Data is stationary\n"
          ],
          "name": "stdout"
        }
      ]
    },
    {
      "cell_type": "markdown",
      "metadata": {
        "id": "Qci5UZ83itAT"
      },
      "source": [
        "#**PART 2 - USING KERAS**"
      ]
    },
    {
      "cell_type": "code",
      "metadata": {
        "id": "PEiW8-OjHob_",
        "colab": {
          "base_uri": "https://localhost:8080/",
          "height": 195
        },
        "outputId": "21391620-9a4f-4fda-8c44-ae1f37e57fec"
      },
      "source": [
        "data1.head()"
      ],
      "execution_count": 137,
      "outputs": [
        {
          "output_type": "execute_result",
          "data": {
            "text/html": [
              "<div>\n",
              "<style scoped>\n",
              "    .dataframe tbody tr th:only-of-type {\n",
              "        vertical-align: middle;\n",
              "    }\n",
              "\n",
              "    .dataframe tbody tr th {\n",
              "        vertical-align: top;\n",
              "    }\n",
              "\n",
              "    .dataframe thead th {\n",
              "        text-align: right;\n",
              "    }\n",
              "</style>\n",
              "<table border=\"1\" class=\"dataframe\">\n",
              "  <thead>\n",
              "    <tr style=\"text-align: right;\">\n",
              "      <th></th>\n",
              "      <th>Date</th>\n",
              "      <th>Open</th>\n",
              "      <th>High</th>\n",
              "      <th>Low</th>\n",
              "      <th>Close</th>\n",
              "      <th>Adj Close</th>\n",
              "      <th>Volume</th>\n",
              "    </tr>\n",
              "  </thead>\n",
              "  <tbody>\n",
              "    <tr>\n",
              "      <th>0</th>\n",
              "      <td>2001-01-02</td>\n",
              "      <td>1.4375</td>\n",
              "      <td>1.5625</td>\n",
              "      <td>1.3125</td>\n",
              "      <td>1.4375</td>\n",
              "      <td>1.294107</td>\n",
              "      <td>26600</td>\n",
              "    </tr>\n",
              "    <tr>\n",
              "      <th>1</th>\n",
              "      <td>2001-01-03</td>\n",
              "      <td>1.4375</td>\n",
              "      <td>1.4375</td>\n",
              "      <td>1.4375</td>\n",
              "      <td>1.4375</td>\n",
              "      <td>1.294107</td>\n",
              "      <td>18300</td>\n",
              "    </tr>\n",
              "    <tr>\n",
              "      <th>2</th>\n",
              "      <td>2001-01-04</td>\n",
              "      <td>1.3125</td>\n",
              "      <td>1.5625</td>\n",
              "      <td>1.3125</td>\n",
              "      <td>1.5000</td>\n",
              "      <td>1.350373</td>\n",
              "      <td>17700</td>\n",
              "    </tr>\n",
              "    <tr>\n",
              "      <th>3</th>\n",
              "      <td>2001-01-05</td>\n",
              "      <td>1.5000</td>\n",
              "      <td>1.6875</td>\n",
              "      <td>1.5000</td>\n",
              "      <td>1.6875</td>\n",
              "      <td>1.519169</td>\n",
              "      <td>13000</td>\n",
              "    </tr>\n",
              "    <tr>\n",
              "      <th>4</th>\n",
              "      <td>2001-01-08</td>\n",
              "      <td>1.6875</td>\n",
              "      <td>2.0000</td>\n",
              "      <td>1.6875</td>\n",
              "      <td>2.0000</td>\n",
              "      <td>1.800497</td>\n",
              "      <td>60200</td>\n",
              "    </tr>\n",
              "  </tbody>\n",
              "</table>\n",
              "</div>"
            ],
            "text/plain": [
              "        Date    Open    High     Low   Close  Adj Close  Volume\n",
              "0 2001-01-02  1.4375  1.5625  1.3125  1.4375   1.294107   26600\n",
              "1 2001-01-03  1.4375  1.4375  1.4375  1.4375   1.294107   18300\n",
              "2 2001-01-04  1.3125  1.5625  1.3125  1.5000   1.350373   17700\n",
              "3 2001-01-05  1.5000  1.6875  1.5000  1.6875   1.519169   13000\n",
              "4 2001-01-08  1.6875  2.0000  1.6875  2.0000   1.800497   60200"
            ]
          },
          "metadata": {
            "tags": []
          },
          "execution_count": 137
        }
      ]
    },
    {
      "cell_type": "code",
      "metadata": {
        "id": "jaIJHWWjHocw"
      },
      "source": [
        "# Filtered Dataset\n",
        "apple_training_processed = apple_training_complete.iloc[:, 1:2].values"
      ],
      "execution_count": 138,
      "outputs": []
    },
    {
      "cell_type": "code",
      "metadata": {
        "id": "dojgNBjZHocy"
      },
      "source": [
        "# Data Normalization\n",
        "from sklearn.preprocessing import MinMaxScaler\n",
        "scaler = MinMaxScaler(feature_range = (0, 1))\n",
        "\n",
        "apple_training_scaled = scaler.fit_transform(apple_training_processed)"
      ],
      "execution_count": 139,
      "outputs": []
    },
    {
      "cell_type": "code",
      "metadata": {
        "colab": {
          "base_uri": "https://localhost:8080/"
        },
        "id": "GzJyQo5HuyQG",
        "outputId": "28a9a3a1-22c8-45b3-8911-86e0789b0934"
      },
      "source": [
        "rows, cols = data1.shape\n",
        "rows"
      ],
      "execution_count": 140,
      "outputs": [
        {
          "output_type": "execute_result",
          "data": {
            "text/plain": [
              "5126"
            ]
          },
          "metadata": {
            "tags": []
          },
          "execution_count": 140
        }
      ]
    },
    {
      "cell_type": "code",
      "metadata": {
        "id": "eaTp8eXmHoc1"
      },
      "source": [
        "# Convert Training Data to Right Shape\n",
        "features_set = []\n",
        "labels = []\n",
        "\n",
        "features_set.append(apple_training_scaled[i-60:i, 0])\n",
        "labels.append(apple_training_scaled[i, 0])"
      ],
      "execution_count": 141,
      "outputs": []
    },
    {
      "cell_type": "code",
      "metadata": {
        "id": "H1pvUPD5Hoc3"
      },
      "source": [
        "# Convert lists to the numpy array\n",
        "features_set, labels = np.array(features_set), np.array(labels)"
      ],
      "execution_count": 142,
      "outputs": []
    },
    {
      "cell_type": "code",
      "metadata": {
        "id": "WuPbcHERHoc5"
      },
      "source": [
        "# convert data into three-dimensional format\n",
        "features_set = np.reshape(features_set, (features_set.shape[0], features_set.shape[1], 1))"
      ],
      "execution_count": 145,
      "outputs": []
    },
    {
      "cell_type": "code",
      "metadata": {
        "id": "aKoCLQLwHoc7"
      },
      "source": [
        "# Training The LSTM\n",
        "from keras.models import Sequential\n",
        "from keras.layers import Dense\n",
        "from keras.layers import LSTM\n",
        "from keras.layers import Dropout"
      ],
      "execution_count": 146,
      "outputs": []
    },
    {
      "cell_type": "code",
      "metadata": {
        "id": "nF0D8fiwHodC"
      },
      "source": [
        "# instantiate the Sequential class\n",
        "model = Sequential()"
      ],
      "execution_count": 147,
      "outputs": []
    },
    {
      "cell_type": "code",
      "metadata": {
        "id": "Xtq5h88WHodE"
      },
      "source": [
        "# Creating LSTM and Dropout Layers\n",
        "model.add(LSTM(units=50, return_sequences=True, input_shape=(features_set.shape[0], 1)))"
      ],
      "execution_count": 148,
      "outputs": []
    },
    {
      "cell_type": "code",
      "metadata": {
        "id": "LwNmSjwsHodG"
      },
      "source": [
        "# Add a dropout layer to model\n",
        "model.add(Dropout(0.2))"
      ],
      "execution_count": 149,
      "outputs": []
    },
    {
      "cell_type": "code",
      "metadata": {
        "id": "24NUqXGlHodH"
      },
      "source": [
        "# Add 3 More dropout layers to model\n",
        "model.add(LSTM(units=50, return_sequences=True))\n",
        "model.add(Dropout(0.2))\n",
        "\n",
        "model.add(LSTM(units=50, return_sequences=True))\n",
        "model.add(Dropout(0.2))\n",
        "\n",
        "model.add(LSTM(units=50))\n",
        "model.add(Dropout(0.2))"
      ],
      "execution_count": 150,
      "outputs": []
    },
    {
      "cell_type": "code",
      "metadata": {
        "id": "peuOJkGvHodJ"
      },
      "source": [
        "# Creating Dense Layer\n",
        "model.add(Dense(units = 1))"
      ],
      "execution_count": 151,
      "outputs": []
    },
    {
      "cell_type": "code",
      "metadata": {
        "id": "xeoSR8BHHodK"
      },
      "source": [
        "# Model Compilation\n",
        "model.compile(optimizer = 'adam', loss = 'mean_squared_error')"
      ],
      "execution_count": 152,
      "outputs": []
    },
    {
      "cell_type": "code",
      "metadata": {
        "colab": {
          "base_uri": "https://localhost:8080/"
        },
        "id": "OHNtltScHodM",
        "outputId": "28b5b471-64eb-4bdc-a6d7-393870814a90"
      },
      "source": [
        "# Algorithm Training\n",
        "model.fit(features_set, labels, epochs = 5, batch_size = 32)"
      ],
      "execution_count": 153,
      "outputs": [
        {
          "output_type": "stream",
          "text": [
            "Epoch 1/5\n",
            "WARNING:tensorflow:Model was constructed with shape (None, 1, 1) for input KerasTensor(type_spec=TensorSpec(shape=(None, 1, 1), dtype=tf.float32, name='lstm_18_input'), name='lstm_18_input', description=\"created by layer 'lstm_18_input'\"), but it was called on an input with incompatible shape (None, 60, 1).\n",
            "WARNING:tensorflow:Model was constructed with shape (None, 1, 1) for input KerasTensor(type_spec=TensorSpec(shape=(None, 1, 1), dtype=tf.float32, name='lstm_18_input'), name='lstm_18_input', description=\"created by layer 'lstm_18_input'\"), but it was called on an input with incompatible shape (None, 60, 1).\n",
            "1/1 [==============================] - 8s 8s/step - loss: 0.0021\n",
            "Epoch 2/5\n",
            "1/1 [==============================] - 0s 95ms/step - loss: 6.8794e-04\n",
            "Epoch 3/5\n",
            "1/1 [==============================] - 0s 90ms/step - loss: 4.2513e-05\n",
            "Epoch 4/5\n",
            "1/1 [==============================] - 0s 87ms/step - loss: 2.1542e-04\n",
            "Epoch 5/5\n",
            "1/1 [==============================] - 0s 88ms/step - loss: 1.1785e-04\n"
          ],
          "name": "stdout"
        },
        {
          "output_type": "execute_result",
          "data": {
            "text/plain": [
              "<keras.callbacks.History at 0x7f59c17d0e10>"
            ]
          },
          "metadata": {
            "tags": []
          },
          "execution_count": 153
        }
      ]
    },
    {
      "cell_type": "code",
      "metadata": {
        "id": "k3pA9aWDHodO"
      },
      "source": [
        "# Testing our LSTM\n",
        "Test_path = \"/content/drive/MyDrive/Colab Notebooks/GRIP/yahoo.csv\"\n",
        "apple_testing_complete = pd.read_csv(Test_path)\n",
        "apple_testing_processed = apple_testing_complete.iloc[:, 1:2].values"
      ],
      "execution_count": 154,
      "outputs": []
    },
    {
      "cell_type": "code",
      "metadata": {
        "id": "IN-3FY1nHodP"
      },
      "source": [
        "# Converting Test Data to Right Format\n",
        "apple_total = pd.concat((apple_training_complete['Open'], apple_testing_complete['Open']), axis=0)"
      ],
      "execution_count": 155,
      "outputs": []
    },
    {
      "cell_type": "code",
      "metadata": {
        "id": "7Ilfw_2lHodQ"
      },
      "source": [
        "# Fetching training set\n",
        "test_inputs = apple_total[len(apple_total) - len(apple_testing_complete) - 60:].values"
      ],
      "execution_count": 156,
      "outputs": []
    },
    {
      "cell_type": "code",
      "metadata": {
        "id": "kEaEJpYTHodS"
      },
      "source": [
        "# Scale test data\n",
        "test_inputs = test_inputs.reshape(-1,1)\n",
        "test_inputs = scaler.transform(test_inputs)"
      ],
      "execution_count": 157,
      "outputs": []
    },
    {
      "cell_type": "code",
      "metadata": {
        "id": "Nqhc7O7QHodT"
      },
      "source": [
        "# Prepare final test input set\n",
        "test_features = []\n",
        "\n",
        "test_features.append(test_inputs[i-60:i, 0])"
      ],
      "execution_count": 158,
      "outputs": []
    },
    {
      "cell_type": "code",
      "metadata": {
        "id": "snjopHnBHodU"
      },
      "source": [
        "# Convert data into the three-dimensional format\n",
        "test_features = np.array(test_features)\n",
        "test_features = np.reshape(test_features, (test_features.shape[0], test_features.shape[1], 1))"
      ],
      "execution_count": 159,
      "outputs": []
    },
    {
      "cell_type": "code",
      "metadata": {
        "id": "aXviDQiwHodW",
        "colab": {
          "base_uri": "https://localhost:8080/"
        },
        "outputId": "64c060cf-027c-4fea-cdaa-5174fe3dd0c8"
      },
      "source": [
        "# Making Predictions\n",
        "predictions = model.predict(test_features)"
      ],
      "execution_count": 160,
      "outputs": [
        {
          "output_type": "stream",
          "text": [
            "WARNING:tensorflow:Model was constructed with shape (None, 1, 1) for input KerasTensor(type_spec=TensorSpec(shape=(None, 1, 1), dtype=tf.float32, name='lstm_18_input'), name='lstm_18_input', description=\"created by layer 'lstm_18_input'\"), but it was called on an input with incompatible shape (None, 60, 1).\n"
          ],
          "name": "stdout"
        }
      ]
    },
    {
      "cell_type": "code",
      "metadata": {
        "id": "ZbmgFad7HodY",
        "colab": {
          "base_uri": "https://localhost:8080/"
        },
        "outputId": "e4c00a5f-499e-454f-a38b-2505e7e098ea"
      },
      "source": [
        "# Reverse the scaled prediction back to their actual values\n",
        "predictions = scaler.inverse_transform(predictions)\n",
        "predictions"
      ],
      "execution_count": 162,
      "outputs": [
        {
          "output_type": "execute_result",
          "data": {
            "text/plain": [
              "array([[267.6062]], dtype=float32)"
            ]
          },
          "metadata": {
            "tags": []
          },
          "execution_count": 162
        }
      ]
    },
    {
      "cell_type": "code",
      "metadata": {
        "colab": {
          "base_uri": "https://localhost:8080/",
          "height": 404
        },
        "id": "fVREbbWOHodZ",
        "outputId": "dce11b76-10f0-42e1-a8c9-cf52f1eb6b59"
      },
      "source": [
        "# Conclusion - Plot\n",
        "plt.figure(figsize=(10,6))\n",
        "plt.plot(apple_testing_processed, color='blue', label='Actual Stock Price')\n",
        "plt.title('Stock Price Prediction')\n",
        "plt.xlabel('Date')\n",
        "plt.ylabel('Stock Price')\n",
        "plt.legend()\n",
        "plt.show()"
      ],
      "execution_count": 166,
      "outputs": [
        {
          "output_type": "display_data",
          "data": {
            "image/png": "[encoded data removed]",
            "text/plain": [
              "<Figure size 720x432 with 1 Axes>"
            ]
          },
          "metadata": {
            "tags": [],
            "needs_background": "light"
          }
        }
      ]
    },
    {
      "cell_type": "markdown",
      "metadata": {
        "id": "usRFvEsonYAt"
      },
      "source": [
        "#**PART 3 - TEXTUAL ANALYSIS**"
      ]
    },
    {
      "cell_type": "code",
      "metadata": {
        "colab": {
          "base_uri": "https://localhost:8080/"
        },
        "id": "EO1-Qp0nAA0o",
        "outputId": "520d6a6e-3c90-447f-ca40-c2ccf90ad960"
      },
      "source": [
        "import re\n",
        "import nltk\n",
        "from nltk.corpus import stopwords\n",
        "nltk.download('stopwords')\n",
        "nltk.download('vader_lexicon')\n",
        "from textblob import TextBlob\n",
        "from nltk.sentiment.vader import SentimentIntensityAnalyzer\n",
        "from nltk.stem.porter import PorterStemmer as ps\n",
        "from sklearn.metrics import mean_squared_error\n",
        "from sklearn.model_selection import train_test_split\n",
        "from sklearn.ensemble import RandomForestRegressor, AdaBoostRegressor\n",
        "import xgboost \n",
        "import lightgbm"
      ],
      "execution_count": null,
      "outputs": [
        {
          "output_type": "stream",
          "text": [
            "[nltk_data] Downloading package stopwords to /root/nltk_data...\n",
            "[nltk_data]   Unzipping corpora/stopwords.zip.\n",
            "[nltk_data] Downloading package vader_lexicon to /root/nltk_data...\n"
          ],
          "name": "stdout"
        }
      ]
    },
    {
      "cell_type": "code",
      "metadata": {
        "colab": {
          "base_uri": "https://localhost:8080/",
          "height": 249
        },
        "id": "4awR2m9wj6PV",
        "outputId": "285ae22a-c057-4293-dd00-714e92ad680e"
      },
      "source": [
        "cols = ['Date','Category','News']\n",
        "\n",
        "data2 = pd.read_csv(\"/content/drive/MyDrive/Colab Notebooks/GRIP/india-news-headlines.csv\", names= cols)\n",
        "df_news = data2\n",
        "df_news.head()"
      ],
      "execution_count": null,
      "outputs": [
        {
          "output_type": "stream",
          "text": [
            "/usr/local/lib/python3.7/dist-packages/IPython/core/interactiveshell.py:2718: DtypeWarning: Columns (0) have mixed types.Specify dtype option on import or set low_memory=False.\n",
            "  interactivity=interactivity, compiler=compiler, result=result)\n"
          ],
          "name": "stderr"
        },
        {
          "output_type": "execute_result",
          "data": {
            "text/html": [
              "<div>\n",
              "<style scoped>\n",
              "    .dataframe tbody tr th:only-of-type {\n",
              "        vertical-align: middle;\n",
              "    }\n",
              "\n",
              "    .dataframe tbody tr th {\n",
              "        vertical-align: top;\n",
              "    }\n",
              "\n",
              "    .dataframe thead th {\n",
              "        text-align: right;\n",
              "    }\n",
              "</style>\n",
              "<table border=\"1\" class=\"dataframe\">\n",
              "  <thead>\n",
              "    <tr style=\"text-align: right;\">\n",
              "      <th></th>\n",
              "      <th>Date</th>\n",
              "      <th>Category</th>\n",
              "      <th>News</th>\n",
              "    </tr>\n",
              "  </thead>\n",
              "  <tbody>\n",
              "    <tr>\n",
              "      <th>0</th>\n",
              "      <td>publish_date</td>\n",
              "      <td>headline_category</td>\n",
              "      <td>headline_text</td>\n",
              "    </tr>\n",
              "    <tr>\n",
              "      <th>1</th>\n",
              "      <td>20010102</td>\n",
              "      <td>unknown</td>\n",
              "      <td>Status quo will not be disturbed at Ayodhya; s...</td>\n",
              "    </tr>\n",
              "    <tr>\n",
              "      <th>2</th>\n",
              "      <td>20010102</td>\n",
              "      <td>unknown</td>\n",
              "      <td>Fissures in Hurriyat over Pak visit</td>\n",
              "    </tr>\n",
              "    <tr>\n",
              "      <th>3</th>\n",
              "      <td>20010102</td>\n",
              "      <td>unknown</td>\n",
              "      <td>America's unwanted heading for India?</td>\n",
              "    </tr>\n",
              "    <tr>\n",
              "      <th>4</th>\n",
              "      <td>20010102</td>\n",
              "      <td>unknown</td>\n",
              "      <td>For bigwigs; it is destination Goa</td>\n",
              "    </tr>\n",
              "  </tbody>\n",
              "</table>\n",
              "</div>"
            ],
            "text/plain": [
              "           Date  ...                                               News\n",
              "0  publish_date  ...                                      headline_text\n",
              "1      20010102  ...  Status quo will not be disturbed at Ayodhya; s...\n",
              "2      20010102  ...                Fissures in Hurriyat over Pak visit\n",
              "3      20010102  ...              America's unwanted heading for India?\n",
              "4      20010102  ...                 For bigwigs; it is destination Goa\n",
              "\n",
              "[5 rows x 3 columns]"
            ]
          },
          "metadata": {
            "tags": []
          },
          "execution_count": 38
        }
      ]
    },
    {
      "cell_type": "code",
      "metadata": {
        "id": "S1C5ik_RlE3c",
        "colab": {
          "base_uri": "https://localhost:8080/"
        },
        "outputId": "f05cbb2e-7852-4e70-8fbd-186b36d33218"
      },
      "source": [
        "df_news.drop(0, inplace=True)\n",
        "df_news.drop('Category', axis = 1, inplace=True)\n",
        "df_news.info()"
      ],
      "execution_count": null,
      "outputs": [
        {
          "output_type": "stream",
          "text": [
            "<class 'pandas.core.frame.DataFrame'>\n",
            "Int64Index: 3424067 entries, 1 to 3424067\n",
            "Data columns (total 2 columns):\n",
            " #   Column  Dtype \n",
            "---  ------  ----- \n",
            " 0   Date    object\n",
            " 1   News    object\n",
            "dtypes: object(2)\n",
            "memory usage: 78.4+ MB\n"
          ],
          "name": "stdout"
        }
      ]
    },
    {
      "cell_type": "code",
      "metadata": {
        "id": "Z-cajMIylJxK",
        "colab": {
          "base_uri": "https://localhost:8080/",
          "height": 402
        },
        "outputId": "0429419b-faa7-4c58-eb09-b6c92b6de416"
      },
      "source": [
        "#Converting data type of Date column \n",
        "df_news['Date'] = pd.to_datetime(df_news['Date'],format= '%Y%m%d')\n",
        "df_news"
      ],
      "execution_count": null,
      "outputs": [
        {
          "output_type": "execute_result",
          "data": {
            "text/html": [
              "<div>\n",
              "<style scoped>\n",
              "    .dataframe tbody tr th:only-of-type {\n",
              "        vertical-align: middle;\n",
              "    }\n",
              "\n",
              "    .dataframe tbody tr th {\n",
              "        vertical-align: top;\n",
              "    }\n",
              "\n",
              "    .dataframe thead th {\n",
              "        text-align: right;\n",
              "    }\n",
              "</style>\n",
              "<table border=\"1\" class=\"dataframe\">\n",
              "  <thead>\n",
              "    <tr style=\"text-align: right;\">\n",
              "      <th></th>\n",
              "      <th>Date</th>\n",
              "      <th>News</th>\n",
              "    </tr>\n",
              "  </thead>\n",
              "  <tbody>\n",
              "    <tr>\n",
              "      <th>1</th>\n",
              "      <td>2001-01-02</td>\n",
              "      <td>Status quo will not be disturbed at Ayodhya; s...</td>\n",
              "    </tr>\n",
              "    <tr>\n",
              "      <th>2</th>\n",
              "      <td>2001-01-02</td>\n",
              "      <td>Fissures in Hurriyat over Pak visit</td>\n",
              "    </tr>\n",
              "    <tr>\n",
              "      <th>3</th>\n",
              "      <td>2001-01-02</td>\n",
              "      <td>America's unwanted heading for India?</td>\n",
              "    </tr>\n",
              "    <tr>\n",
              "      <th>4</th>\n",
              "      <td>2001-01-02</td>\n",
              "      <td>For bigwigs; it is destination Goa</td>\n",
              "    </tr>\n",
              "    <tr>\n",
              "      <th>5</th>\n",
              "      <td>2001-01-02</td>\n",
              "      <td>Extra buses to clear tourist traffic</td>\n",
              "    </tr>\n",
              "    <tr>\n",
              "      <th>...</th>\n",
              "      <td>...</td>\n",
              "      <td>...</td>\n",
              "    </tr>\n",
              "    <tr>\n",
              "      <th>3424063</th>\n",
              "      <td>2020-12-31</td>\n",
              "      <td>Covid-19: Despite dip in cases; Rajasthan amon...</td>\n",
              "    </tr>\n",
              "    <tr>\n",
              "      <th>3424064</th>\n",
              "      <td>2020-12-31</td>\n",
              "      <td>Covid-19: Despite dip in cases; Rajasthan amon...</td>\n",
              "    </tr>\n",
              "    <tr>\n",
              "      <th>3424065</th>\n",
              "      <td>2020-12-31</td>\n",
              "      <td>Covid-19: Despite dip in cases; Rajasthan amon...</td>\n",
              "    </tr>\n",
              "    <tr>\n",
              "      <th>3424066</th>\n",
              "      <td>2020-12-31</td>\n",
              "      <td>Govt extends deadline for use of FASTag till F...</td>\n",
              "    </tr>\n",
              "    <tr>\n",
              "      <th>3424067</th>\n",
              "      <td>2020-12-31</td>\n",
              "      <td>Celebs plan to party safely and responsibly on...</td>\n",
              "    </tr>\n",
              "  </tbody>\n",
              "</table>\n",
              "<p>3424067 rows × 2 columns</p>\n",
              "</div>"
            ],
            "text/plain": [
              "              Date                                               News\n",
              "1       2001-01-02  Status quo will not be disturbed at Ayodhya; s...\n",
              "2       2001-01-02                Fissures in Hurriyat over Pak visit\n",
              "3       2001-01-02              America's unwanted heading for India?\n",
              "4       2001-01-02                 For bigwigs; it is destination Goa\n",
              "5       2001-01-02               Extra buses to clear tourist traffic\n",
              "...            ...                                                ...\n",
              "3424063 2020-12-31  Covid-19: Despite dip in cases; Rajasthan amon...\n",
              "3424064 2020-12-31  Covid-19: Despite dip in cases; Rajasthan amon...\n",
              "3424065 2020-12-31  Covid-19: Despite dip in cases; Rajasthan amon...\n",
              "3424066 2020-12-31  Govt extends deadline for use of FASTag till F...\n",
              "3424067 2020-12-31  Celebs plan to party safely and responsibly on...\n",
              "\n",
              "[3424067 rows x 2 columns]"
            ]
          },
          "metadata": {
            "tags": []
          },
          "execution_count": 40
        }
      ]
    },
    {
      "cell_type": "code",
      "metadata": {
        "id": "sJ6m2QmPlKkX",
        "colab": {
          "base_uri": "https://localhost:8080/",
          "height": 402
        },
        "outputId": "591e0a4c-1d7e-402f-aa2f-9578ea3d21c7"
      },
      "source": [
        "#Grouping the headlines for each day\n",
        "df_news['News'] = df_news.groupby(['Date']).transform(lambda x : ' '.join(x)) \n",
        "df_news = df_news.drop_duplicates() \n",
        "df_news.reset_index(inplace = True, drop = True)\n",
        "df_news"
      ],
      "execution_count": null,
      "outputs": [
        {
          "output_type": "execute_result",
          "data": {
            "text/html": [
              "<div>\n",
              "<style scoped>\n",
              "    .dataframe tbody tr th:only-of-type {\n",
              "        vertical-align: middle;\n",
              "    }\n",
              "\n",
              "    .dataframe tbody tr th {\n",
              "        vertical-align: top;\n",
              "    }\n",
              "\n",
              "    .dataframe thead th {\n",
              "        text-align: right;\n",
              "    }\n",
              "</style>\n",
              "<table border=\"1\" class=\"dataframe\">\n",
              "  <thead>\n",
              "    <tr style=\"text-align: right;\">\n",
              "      <th></th>\n",
              "      <th>Date</th>\n",
              "      <th>News</th>\n",
              "    </tr>\n",
              "  </thead>\n",
              "  <tbody>\n",
              "    <tr>\n",
              "      <th>0</th>\n",
              "      <td>2001-01-02</td>\n",
              "      <td>Status quo will not be disturbed at Ayodhya; s...</td>\n",
              "    </tr>\n",
              "    <tr>\n",
              "      <th>1</th>\n",
              "      <td>2001-01-03</td>\n",
              "      <td>Powerless north India gropes in the dark Think...</td>\n",
              "    </tr>\n",
              "    <tr>\n",
              "      <th>2</th>\n",
              "      <td>2001-01-04</td>\n",
              "      <td>The string that pulled Stephen Hawking to Indi...</td>\n",
              "    </tr>\n",
              "    <tr>\n",
              "      <th>3</th>\n",
              "      <td>2001-01-05</td>\n",
              "      <td>Light combat craft takes India into club class...</td>\n",
              "    </tr>\n",
              "    <tr>\n",
              "      <th>4</th>\n",
              "      <td>2001-01-06</td>\n",
              "      <td>Light combat craft takes India into club class...</td>\n",
              "    </tr>\n",
              "    <tr>\n",
              "      <th>...</th>\n",
              "      <td>...</td>\n",
              "      <td>...</td>\n",
              "    </tr>\n",
              "    <tr>\n",
              "      <th>7257</th>\n",
              "      <td>2020-12-27</td>\n",
              "      <td>#BigInterview! Dhritiman Chatterjee: Nobody da...</td>\n",
              "    </tr>\n",
              "    <tr>\n",
              "      <th>7258</th>\n",
              "      <td>2020-12-28</td>\n",
              "      <td>Horoscope Today; 28 December 2020: Check astro...</td>\n",
              "    </tr>\n",
              "    <tr>\n",
              "      <th>7259</th>\n",
              "      <td>2020-12-29</td>\n",
              "      <td>Man recovers charred remains of 'thief' from h...</td>\n",
              "    </tr>\n",
              "    <tr>\n",
              "      <th>7260</th>\n",
              "      <td>2020-12-30</td>\n",
              "      <td>Numerology Readings 30 December 2020: Predicti...</td>\n",
              "    </tr>\n",
              "    <tr>\n",
              "      <th>7261</th>\n",
              "      <td>2020-12-31</td>\n",
              "      <td>Horoscope Today; 31 December 2020: Check astro...</td>\n",
              "    </tr>\n",
              "  </tbody>\n",
              "</table>\n",
              "<p>7262 rows × 2 columns</p>\n",
              "</div>"
            ],
            "text/plain": [
              "           Date                                               News\n",
              "0    2001-01-02  Status quo will not be disturbed at Ayodhya; s...\n",
              "1    2001-01-03  Powerless north India gropes in the dark Think...\n",
              "2    2001-01-04  The string that pulled Stephen Hawking to Indi...\n",
              "3    2001-01-05  Light combat craft takes India into club class...\n",
              "4    2001-01-06  Light combat craft takes India into club class...\n",
              "...         ...                                                ...\n",
              "7257 2020-12-27  #BigInterview! Dhritiman Chatterjee: Nobody da...\n",
              "7258 2020-12-28  Horoscope Today; 28 December 2020: Check astro...\n",
              "7259 2020-12-29  Man recovers charred remains of 'thief' from h...\n",
              "7260 2020-12-30  Numerology Readings 30 December 2020: Predicti...\n",
              "7261 2020-12-31  Horoscope Today; 31 December 2020: Check astro...\n",
              "\n",
              "[7262 rows x 2 columns]"
            ]
          },
          "metadata": {
            "tags": []
          },
          "execution_count": 41
        }
      ]
    },
    {
      "cell_type": "code",
      "metadata": {
        "colab": {
          "base_uri": "https://localhost:8080/"
        },
        "id": "kvwXMXpZ_mt2",
        "outputId": "eff5b789-2144-40a0-f319-58b1af464d58"
      },
      "source": [
        "df_news['News']"
      ],
      "execution_count": null,
      "outputs": [
        {
          "output_type": "execute_result",
          "data": {
            "text/plain": [
              "0       Status quo will not be disturbed at Ayodhya; s...\n",
              "1       Powerless north India gropes in the dark Think...\n",
              "2       The string that pulled Stephen Hawking to Indi...\n",
              "3       Light combat craft takes India into club class...\n",
              "4       Light combat craft takes India into club class...\n",
              "                              ...                        \n",
              "7257    #BigInterview! Dhritiman Chatterjee: Nobody da...\n",
              "7258    Horoscope Today; 28 December 2020: Check astro...\n",
              "7259    Man recovers charred remains of 'thief' from h...\n",
              "7260    Numerology Readings 30 December 2020: Predicti...\n",
              "7261    Horoscope Today; 31 December 2020: Check astro...\n",
              "Name: News, Length: 7262, dtype: object"
            ]
          },
          "metadata": {
            "tags": []
          },
          "execution_count": 42
        }
      ]
    },
    {
      "cell_type": "code",
      "metadata": {
        "id": "2Gpn91aK_fPg"
      },
      "source": [
        "#Cleaning headlines\n",
        "c = []\n",
        "for i in range(0,len(df_news['News'])):\n",
        "    news = re.sub('[^a-zA-Z]',' ',df_news['News'][i])\n",
        "    news = news.lower()\n",
        "    news = news.split()\n",
        "    #news = [ps.stem(word) for word in news if not word in set(stopwords.words('english'))]\n",
        "    news=' '.join(news)\n",
        "    c.append(news)"
      ],
      "execution_count": null,
      "outputs": []
    },
    {
      "cell_type": "code",
      "metadata": {
        "colab": {
          "base_uri": "https://localhost:8080/",
          "height": 502
        },
        "id": "UdB9Quk6_nz8",
        "outputId": "a6ff2e15-c358-4745-df3c-e8b9aad65200"
      },
      "source": [
        "df_news['News'] = pd.Series(c)\n",
        "df_news"
      ],
      "execution_count": null,
      "outputs": [
        {
          "output_type": "stream",
          "text": [
            "/usr/local/lib/python3.7/dist-packages/ipykernel_launcher.py:1: SettingWithCopyWarning: \n",
            "A value is trying to be set on a copy of a slice from a DataFrame.\n",
            "Try using .loc[row_indexer,col_indexer] = value instead\n",
            "\n",
            "See the caveats in the documentation: https://pandas.pydata.org/pandas-docs/stable/user_guide/indexing.html#returning-a-view-versus-a-copy\n",
            "  \"\"\"Entry point for launching an IPython kernel.\n"
          ],
          "name": "stderr"
        },
        {
          "output_type": "execute_result",
          "data": {
            "text/html": [
              "<div>\n",
              "<style scoped>\n",
              "    .dataframe tbody tr th:only-of-type {\n",
              "        vertical-align: middle;\n",
              "    }\n",
              "\n",
              "    .dataframe tbody tr th {\n",
              "        vertical-align: top;\n",
              "    }\n",
              "\n",
              "    .dataframe thead th {\n",
              "        text-align: right;\n",
              "    }\n",
              "</style>\n",
              "<table border=\"1\" class=\"dataframe\">\n",
              "  <thead>\n",
              "    <tr style=\"text-align: right;\">\n",
              "      <th></th>\n",
              "      <th>Date</th>\n",
              "      <th>News</th>\n",
              "    </tr>\n",
              "  </thead>\n",
              "  <tbody>\n",
              "    <tr>\n",
              "      <th>0</th>\n",
              "      <td>2001-01-02</td>\n",
              "      <td>status quo will not be disturbed at ayodhya sa...</td>\n",
              "    </tr>\n",
              "    <tr>\n",
              "      <th>1</th>\n",
              "      <td>2001-01-03</td>\n",
              "      <td>powerless north india gropes in the dark think...</td>\n",
              "    </tr>\n",
              "    <tr>\n",
              "      <th>2</th>\n",
              "      <td>2001-01-04</td>\n",
              "      <td>the string that pulled stephen hawking to indi...</td>\n",
              "    </tr>\n",
              "    <tr>\n",
              "      <th>3</th>\n",
              "      <td>2001-01-05</td>\n",
              "      <td>light combat craft takes india into club class...</td>\n",
              "    </tr>\n",
              "    <tr>\n",
              "      <th>4</th>\n",
              "      <td>2001-01-06</td>\n",
              "      <td>light combat craft takes india into club class...</td>\n",
              "    </tr>\n",
              "    <tr>\n",
              "      <th>...</th>\n",
              "      <td>...</td>\n",
              "      <td>...</td>\n",
              "    </tr>\n",
              "    <tr>\n",
              "      <th>7257</th>\n",
              "      <td>2020-12-27</td>\n",
              "      <td>biginterview dhritiman chatterjee nobody dares...</td>\n",
              "    </tr>\n",
              "    <tr>\n",
              "      <th>7258</th>\n",
              "      <td>2020-12-28</td>\n",
              "      <td>horoscope today december check astrological pr...</td>\n",
              "    </tr>\n",
              "    <tr>\n",
              "      <th>7259</th>\n",
              "      <td>2020-12-29</td>\n",
              "      <td>man recovers charred remains of thief from his...</td>\n",
              "    </tr>\n",
              "    <tr>\n",
              "      <th>7260</th>\n",
              "      <td>2020-12-30</td>\n",
              "      <td>numerology readings december predictions lucky...</td>\n",
              "    </tr>\n",
              "    <tr>\n",
              "      <th>7261</th>\n",
              "      <td>2020-12-31</td>\n",
              "      <td>horoscope today december check astrological pr...</td>\n",
              "    </tr>\n",
              "  </tbody>\n",
              "</table>\n",
              "<p>7262 rows × 2 columns</p>\n",
              "</div>"
            ],
            "text/plain": [
              "           Date                                               News\n",
              "0    2001-01-02  status quo will not be disturbed at ayodhya sa...\n",
              "1    2001-01-03  powerless north india gropes in the dark think...\n",
              "2    2001-01-04  the string that pulled stephen hawking to indi...\n",
              "3    2001-01-05  light combat craft takes india into club class...\n",
              "4    2001-01-06  light combat craft takes india into club class...\n",
              "...         ...                                                ...\n",
              "7257 2020-12-27  biginterview dhritiman chatterjee nobody dares...\n",
              "7258 2020-12-28  horoscope today december check astrological pr...\n",
              "7259 2020-12-29  man recovers charred remains of thief from his...\n",
              "7260 2020-12-30  numerology readings december predictions lucky...\n",
              "7261 2020-12-31  horoscope today december check astrological pr...\n",
              "\n",
              "[7262 rows x 2 columns]"
            ]
          },
          "metadata": {
            "tags": []
          },
          "execution_count": 116
        }
      ]
    },
    {
      "cell_type": "code",
      "metadata": {
        "colab": {
          "base_uri": "https://localhost:8080/",
          "height": 603
        },
        "id": "iHSRYL71_tVo",
        "outputId": "05ff4e76-1d75-4c42-b657-96b515e7078d"
      },
      "source": [
        "#Functions to get the subjectivity and polarity\n",
        "def getSubjectivity(text):\n",
        "  return TextBlob(text).sentiment.subjectivity\n",
        "\n",
        "def getPolarity(text):\n",
        "  return  TextBlob(text).sentiment.polarity\n",
        "  \n",
        "#Adding subjectivity and polarity columns\n",
        "df_news['Subjectivity'] = df_news['News'].apply(getSubjectivity)\n",
        "df_news['Polarity'] = df_news['News'].apply(getPolarity)\n",
        "df_news"
      ],
      "execution_count": null,
      "outputs": [
        {
          "output_type": "stream",
          "text": [
            "/usr/local/lib/python3.7/dist-packages/ipykernel_launcher.py:9: SettingWithCopyWarning: \n",
            "A value is trying to be set on a copy of a slice from a DataFrame.\n",
            "Try using .loc[row_indexer,col_indexer] = value instead\n",
            "\n",
            "See the caveats in the documentation: https://pandas.pydata.org/pandas-docs/stable/user_guide/indexing.html#returning-a-view-versus-a-copy\n",
            "  if __name__ == '__main__':\n",
            "/usr/local/lib/python3.7/dist-packages/ipykernel_launcher.py:10: SettingWithCopyWarning: \n",
            "A value is trying to be set on a copy of a slice from a DataFrame.\n",
            "Try using .loc[row_indexer,col_indexer] = value instead\n",
            "\n",
            "See the caveats in the documentation: https://pandas.pydata.org/pandas-docs/stable/user_guide/indexing.html#returning-a-view-versus-a-copy\n",
            "  # Remove the CWD from sys.path while we load stuff.\n"
          ],
          "name": "stderr"
        },
        {
          "output_type": "execute_result",
          "data": {
            "text/html": [
              "<div>\n",
              "<style scoped>\n",
              "    .dataframe tbody tr th:only-of-type {\n",
              "        vertical-align: middle;\n",
              "    }\n",
              "\n",
              "    .dataframe tbody tr th {\n",
              "        vertical-align: top;\n",
              "    }\n",
              "\n",
              "    .dataframe thead th {\n",
              "        text-align: right;\n",
              "    }\n",
              "</style>\n",
              "<table border=\"1\" class=\"dataframe\">\n",
              "  <thead>\n",
              "    <tr style=\"text-align: right;\">\n",
              "      <th></th>\n",
              "      <th>Date</th>\n",
              "      <th>News</th>\n",
              "      <th>Subjectivity</th>\n",
              "      <th>Polarity</th>\n",
              "    </tr>\n",
              "  </thead>\n",
              "  <tbody>\n",
              "    <tr>\n",
              "      <th>0</th>\n",
              "      <td>2001-01-02</td>\n",
              "      <td>Status quo will not be disturbed at Ayodhya; s...</td>\n",
              "      <td>0.282333</td>\n",
              "      <td>0.151333</td>\n",
              "    </tr>\n",
              "    <tr>\n",
              "      <th>1</th>\n",
              "      <td>2001-01-03</td>\n",
              "      <td>Powerless north India gropes in the dark Think...</td>\n",
              "      <td>0.407692</td>\n",
              "      <td>0.088462</td>\n",
              "    </tr>\n",
              "    <tr>\n",
              "      <th>2</th>\n",
              "      <td>2001-01-04</td>\n",
              "      <td>The string that pulled Stephen Hawking to Indi...</td>\n",
              "      <td>0.446847</td>\n",
              "      <td>0.087961</td>\n",
              "    </tr>\n",
              "    <tr>\n",
              "      <th>3</th>\n",
              "      <td>2001-01-05</td>\n",
              "      <td>Light combat craft takes India into club class...</td>\n",
              "      <td>0.476612</td>\n",
              "      <td>0.262024</td>\n",
              "    </tr>\n",
              "    <tr>\n",
              "      <th>4</th>\n",
              "      <td>2001-01-06</td>\n",
              "      <td>Light combat craft takes India into club class...</td>\n",
              "      <td>0.439394</td>\n",
              "      <td>0.248485</td>\n",
              "    </tr>\n",
              "    <tr>\n",
              "      <th>...</th>\n",
              "      <td>...</td>\n",
              "      <td>...</td>\n",
              "      <td>...</td>\n",
              "      <td>...</td>\n",
              "    </tr>\n",
              "    <tr>\n",
              "      <th>7257</th>\n",
              "      <td>2020-12-27</td>\n",
              "      <td>#BigInterview! Dhritiman Chatterjee: Nobody da...</td>\n",
              "      <td>0.395808</td>\n",
              "      <td>0.035886</td>\n",
              "    </tr>\n",
              "    <tr>\n",
              "      <th>7258</th>\n",
              "      <td>2020-12-28</td>\n",
              "      <td>Horoscope Today; 28 December 2020: Check astro...</td>\n",
              "      <td>0.412945</td>\n",
              "      <td>0.070517</td>\n",
              "    </tr>\n",
              "    <tr>\n",
              "      <th>7259</th>\n",
              "      <td>2020-12-29</td>\n",
              "      <td>Man recovers charred remains of 'thief' from h...</td>\n",
              "      <td>0.424021</td>\n",
              "      <td>0.061210</td>\n",
              "    </tr>\n",
              "    <tr>\n",
              "      <th>7260</th>\n",
              "      <td>2020-12-30</td>\n",
              "      <td>Numerology Readings 30 December 2020: Predicti...</td>\n",
              "      <td>0.441660</td>\n",
              "      <td>0.043496</td>\n",
              "    </tr>\n",
              "    <tr>\n",
              "      <th>7261</th>\n",
              "      <td>2020-12-31</td>\n",
              "      <td>Horoscope Today; 31 December 2020: Check astro...</td>\n",
              "      <td>0.406220</td>\n",
              "      <td>0.091373</td>\n",
              "    </tr>\n",
              "  </tbody>\n",
              "</table>\n",
              "<p>7262 rows × 4 columns</p>\n",
              "</div>"
            ],
            "text/plain": [
              "           Date  ...  Polarity\n",
              "0    2001-01-02  ...  0.151333\n",
              "1    2001-01-03  ...  0.088462\n",
              "2    2001-01-04  ...  0.087961\n",
              "3    2001-01-05  ...  0.262024\n",
              "4    2001-01-06  ...  0.248485\n",
              "...         ...  ...       ...\n",
              "7257 2020-12-27  ...  0.035886\n",
              "7258 2020-12-28  ...  0.070517\n",
              "7259 2020-12-29  ...  0.061210\n",
              "7260 2020-12-30  ...  0.043496\n",
              "7261 2020-12-31  ...  0.091373\n",
              "\n",
              "[7262 rows x 4 columns]"
            ]
          },
          "metadata": {
            "tags": []
          },
          "execution_count": 45
        }
      ]
    },
    {
      "cell_type": "code",
      "metadata": {
        "colab": {
          "base_uri": "https://localhost:8080/",
          "height": 391
        },
        "id": "zoU-dl2C_3Hm",
        "outputId": "40c081fa-e8b4-4846-af2b-0d74b17b1c79"
      },
      "source": [
        "plt.figure(figsize = (10,6))\n",
        "df_news['Polarity'].hist(color = 'purple')"
      ],
      "execution_count": null,
      "outputs": [
        {
          "output_type": "execute_result",
          "data": {
            "text/plain": [
              "<matplotlib.axes._subplots.AxesSubplot at 0x7f59c5b1fe90>"
            ]
          },
          "metadata": {
            "tags": []
          },
          "execution_count": 46
        },
        {
          "output_type": "display_data",
          "data": {
            "image/png": "[encoded data removed]",
            "text/plain": [
              "<Figure size 720x432 with 1 Axes>"
            ]
          },
          "metadata": {
            "tags": [],
            "needs_background": "light"
          }
        }
      ]
    },
    {
      "cell_type": "code",
      "metadata": {
        "colab": {
          "base_uri": "https://localhost:8080/",
          "height": 391
        },
        "id": "MOwueQw__4ZS",
        "outputId": "baae3c3b-8657-4062-b2f2-b971a4dc98d2"
      },
      "source": [
        "plt.figure(figsize = (10,6))\n",
        "df_news['Subjectivity'].hist(color = 'blue')"
      ],
      "execution_count": null,
      "outputs": [
        {
          "output_type": "execute_result",
          "data": {
            "text/plain": [
              "<matplotlib.axes._subplots.AxesSubplot at 0x7f59c4f65d10>"
            ]
          },
          "metadata": {
            "tags": []
          },
          "execution_count": 47
        },
        {
          "output_type": "display_data",
          "data": {
            "image/png": "[encoded data removed]",
            "text/plain": [
              "<Figure size 720x432 with 1 Axes>"
            ]
          },
          "metadata": {
            "tags": [],
            "needs_background": "light"
          }
        }
      ]
    },
    {
      "cell_type": "markdown",
      "metadata": {
        "id": "ZHW1S--GxPVQ"
      },
      "source": [
        "**Adding sentiment score to df_news**"
      ]
    },
    {
      "cell_type": "code",
      "metadata": {
        "colab": {
          "base_uri": "https://localhost:8080/",
          "height": 805
        },
        "id": "229AMeqO_6Li",
        "outputId": "aebba5ff-2100-4667-eb00-edd1ab4b3f5f"
      },
      "source": [
        "\n",
        "sia = SentimentIntensityAnalyzer()\n",
        "\n",
        "df_news['Compound'] = [sia.polarity_scores(v)['compound'] for v in df_news['News']]\n",
        "df_news['Negative'] = [sia.polarity_scores(v)['neg'] for v in df_news['News']]\n",
        "df_news['Neutral'] = [sia.polarity_scores(v)['neu'] for v in df_news['News']]\n",
        "df_news['Positive'] = [sia.polarity_scores(v)['pos'] for v in df_news['News']]\n",
        "df_news"
      ],
      "execution_count": null,
      "outputs": [
        {
          "output_type": "stream",
          "text": [
            "/usr/local/lib/python3.7/dist-packages/ipykernel_launcher.py:4: SettingWithCopyWarning: \n",
            "A value is trying to be set on a copy of a slice from a DataFrame.\n",
            "Try using .loc[row_indexer,col_indexer] = value instead\n",
            "\n",
            "See the caveats in the documentation: https://pandas.pydata.org/pandas-docs/stable/user_guide/indexing.html#returning-a-view-versus-a-copy\n",
            "  after removing the cwd from sys.path.\n",
            "/usr/local/lib/python3.7/dist-packages/ipykernel_launcher.py:5: SettingWithCopyWarning: \n",
            "A value is trying to be set on a copy of a slice from a DataFrame.\n",
            "Try using .loc[row_indexer,col_indexer] = value instead\n",
            "\n",
            "See the caveats in the documentation: https://pandas.pydata.org/pandas-docs/stable/user_guide/indexing.html#returning-a-view-versus-a-copy\n",
            "  \"\"\"\n",
            "/usr/local/lib/python3.7/dist-packages/ipykernel_launcher.py:6: SettingWithCopyWarning: \n",
            "A value is trying to be set on a copy of a slice from a DataFrame.\n",
            "Try using .loc[row_indexer,col_indexer] = value instead\n",
            "\n",
            "See the caveats in the documentation: https://pandas.pydata.org/pandas-docs/stable/user_guide/indexing.html#returning-a-view-versus-a-copy\n",
            "  \n",
            "/usr/local/lib/python3.7/dist-packages/ipykernel_launcher.py:7: SettingWithCopyWarning: \n",
            "A value is trying to be set on a copy of a slice from a DataFrame.\n",
            "Try using .loc[row_indexer,col_indexer] = value instead\n",
            "\n",
            "See the caveats in the documentation: https://pandas.pydata.org/pandas-docs/stable/user_guide/indexing.html#returning-a-view-versus-a-copy\n",
            "  import sys\n"
          ],
          "name": "stderr"
        },
        {
          "output_type": "execute_result",
          "data": {
            "text/html": [
              "<div>\n",
              "<style scoped>\n",
              "    .dataframe tbody tr th:only-of-type {\n",
              "        vertical-align: middle;\n",
              "    }\n",
              "\n",
              "    .dataframe tbody tr th {\n",
              "        vertical-align: top;\n",
              "    }\n",
              "\n",
              "    .dataframe thead th {\n",
              "        text-align: right;\n",
              "    }\n",
              "</style>\n",
              "<table border=\"1\" class=\"dataframe\">\n",
              "  <thead>\n",
              "    <tr style=\"text-align: right;\">\n",
              "      <th></th>\n",
              "      <th>Date</th>\n",
              "      <th>News</th>\n",
              "      <th>Subjectivity</th>\n",
              "      <th>Polarity</th>\n",
              "      <th>Compound</th>\n",
              "      <th>Negative</th>\n",
              "      <th>Neutral</th>\n",
              "      <th>Positive</th>\n",
              "    </tr>\n",
              "  </thead>\n",
              "  <tbody>\n",
              "    <tr>\n",
              "      <th>0</th>\n",
              "      <td>2001-01-02</td>\n",
              "      <td>Status quo will not be disturbed at Ayodhya; s...</td>\n",
              "      <td>0.282333</td>\n",
              "      <td>0.151333</td>\n",
              "      <td>-0.9811</td>\n",
              "      <td>0.122</td>\n",
              "      <td>0.807</td>\n",
              "      <td>0.071</td>\n",
              "    </tr>\n",
              "    <tr>\n",
              "      <th>1</th>\n",
              "      <td>2001-01-03</td>\n",
              "      <td>Powerless north India gropes in the dark Think...</td>\n",
              "      <td>0.407692</td>\n",
              "      <td>0.088462</td>\n",
              "      <td>-0.2640</td>\n",
              "      <td>0.122</td>\n",
              "      <td>0.766</td>\n",
              "      <td>0.111</td>\n",
              "    </tr>\n",
              "    <tr>\n",
              "      <th>2</th>\n",
              "      <td>2001-01-04</td>\n",
              "      <td>The string that pulled Stephen Hawking to Indi...</td>\n",
              "      <td>0.446847</td>\n",
              "      <td>0.087961</td>\n",
              "      <td>0.8738</td>\n",
              "      <td>0.100</td>\n",
              "      <td>0.797</td>\n",
              "      <td>0.103</td>\n",
              "    </tr>\n",
              "    <tr>\n",
              "      <th>3</th>\n",
              "      <td>2001-01-05</td>\n",
              "      <td>Light combat craft takes India into club class...</td>\n",
              "      <td>0.476612</td>\n",
              "      <td>0.262024</td>\n",
              "      <td>0.9633</td>\n",
              "      <td>0.124</td>\n",
              "      <td>0.722</td>\n",
              "      <td>0.154</td>\n",
              "    </tr>\n",
              "    <tr>\n",
              "      <th>4</th>\n",
              "      <td>2001-01-06</td>\n",
              "      <td>Light combat craft takes India into club class...</td>\n",
              "      <td>0.439394</td>\n",
              "      <td>0.248485</td>\n",
              "      <td>-0.4215</td>\n",
              "      <td>0.152</td>\n",
              "      <td>0.704</td>\n",
              "      <td>0.143</td>\n",
              "    </tr>\n",
              "    <tr>\n",
              "      <th>...</th>\n",
              "      <td>...</td>\n",
              "      <td>...</td>\n",
              "      <td>...</td>\n",
              "      <td>...</td>\n",
              "      <td>...</td>\n",
              "      <td>...</td>\n",
              "      <td>...</td>\n",
              "      <td>...</td>\n",
              "    </tr>\n",
              "    <tr>\n",
              "      <th>7257</th>\n",
              "      <td>2020-12-27</td>\n",
              "      <td>#BigInterview! Dhritiman Chatterjee: Nobody da...</td>\n",
              "      <td>0.395808</td>\n",
              "      <td>0.035886</td>\n",
              "      <td>-0.9997</td>\n",
              "      <td>0.126</td>\n",
              "      <td>0.798</td>\n",
              "      <td>0.076</td>\n",
              "    </tr>\n",
              "    <tr>\n",
              "      <th>7258</th>\n",
              "      <td>2020-12-28</td>\n",
              "      <td>Horoscope Today; 28 December 2020: Check astro...</td>\n",
              "      <td>0.412945</td>\n",
              "      <td>0.070517</td>\n",
              "      <td>-0.9998</td>\n",
              "      <td>0.137</td>\n",
              "      <td>0.771</td>\n",
              "      <td>0.092</td>\n",
              "    </tr>\n",
              "    <tr>\n",
              "      <th>7259</th>\n",
              "      <td>2020-12-29</td>\n",
              "      <td>Man recovers charred remains of 'thief' from h...</td>\n",
              "      <td>0.424021</td>\n",
              "      <td>0.061210</td>\n",
              "      <td>-0.9999</td>\n",
              "      <td>0.148</td>\n",
              "      <td>0.758</td>\n",
              "      <td>0.094</td>\n",
              "    </tr>\n",
              "    <tr>\n",
              "      <th>7260</th>\n",
              "      <td>2020-12-30</td>\n",
              "      <td>Numerology Readings 30 December 2020: Predicti...</td>\n",
              "      <td>0.441660</td>\n",
              "      <td>0.043496</td>\n",
              "      <td>-0.9999</td>\n",
              "      <td>0.141</td>\n",
              "      <td>0.780</td>\n",
              "      <td>0.079</td>\n",
              "    </tr>\n",
              "    <tr>\n",
              "      <th>7261</th>\n",
              "      <td>2020-12-31</td>\n",
              "      <td>Horoscope Today; 31 December 2020: Check astro...</td>\n",
              "      <td>0.406220</td>\n",
              "      <td>0.091373</td>\n",
              "      <td>-0.9998</td>\n",
              "      <td>0.136</td>\n",
              "      <td>0.766</td>\n",
              "      <td>0.098</td>\n",
              "    </tr>\n",
              "  </tbody>\n",
              "</table>\n",
              "<p>7262 rows × 8 columns</p>\n",
              "</div>"
            ],
            "text/plain": [
              "           Date  ... Positive\n",
              "0    2001-01-02  ...    0.071\n",
              "1    2001-01-03  ...    0.111\n",
              "2    2001-01-04  ...    0.103\n",
              "3    2001-01-05  ...    0.154\n",
              "4    2001-01-06  ...    0.143\n",
              "...         ...  ...      ...\n",
              "7257 2020-12-27  ...    0.076\n",
              "7258 2020-12-28  ...    0.092\n",
              "7259 2020-12-29  ...    0.094\n",
              "7260 2020-12-30  ...    0.079\n",
              "7261 2020-12-31  ...    0.098\n",
              "\n",
              "[7262 rows x 8 columns]"
            ]
          },
          "metadata": {
            "tags": []
          },
          "execution_count": 48
        }
      ]
    },
    {
      "cell_type": "code",
      "metadata": {
        "colab": {
          "base_uri": "https://localhost:8080/",
          "height": 1000
        },
        "id": "ABfb4tsQAH5k",
        "outputId": "2c236532-ca54-4daa-95ab-27673fbc9379"
      },
      "source": [
        "df_merge = pd.merge(data1, df_news, how='inner', on='Date')\n",
        "df_merge"
      ],
      "execution_count": 119,
      "outputs": [
        {
          "output_type": "execute_result",
          "data": {
            "text/html": [
              "<div>\n",
              "<style scoped>\n",
              "    .dataframe tbody tr th:only-of-type {\n",
              "        vertical-align: middle;\n",
              "    }\n",
              "\n",
              "    .dataframe tbody tr th {\n",
              "        vertical-align: top;\n",
              "    }\n",
              "\n",
              "    .dataframe thead th {\n",
              "        text-align: right;\n",
              "    }\n",
              "</style>\n",
              "<table border=\"1\" class=\"dataframe\">\n",
              "  <thead>\n",
              "    <tr style=\"text-align: right;\">\n",
              "      <th></th>\n",
              "      <th>Date</th>\n",
              "      <th>Open</th>\n",
              "      <th>High</th>\n",
              "      <th>Low</th>\n",
              "      <th>Close</th>\n",
              "      <th>Adj Close</th>\n",
              "      <th>Volume</th>\n",
              "      <th>News</th>\n",
              "      <th>Subjectivity</th>\n",
              "      <th>Polarity</th>\n",
              "      <th>Compound</th>\n",
              "      <th>Negative</th>\n",
              "      <th>Neutral</th>\n",
              "      <th>Positive</th>\n",
              "    </tr>\n",
              "  </thead>\n",
              "  <tbody>\n",
              "    <tr>\n",
              "      <th>0</th>\n",
              "      <td>2001-01-02</td>\n",
              "      <td>1.437500</td>\n",
              "      <td>1.562500</td>\n",
              "      <td>1.312500</td>\n",
              "      <td>1.437500</td>\n",
              "      <td>1.294107</td>\n",
              "      <td>26600</td>\n",
              "      <td>Status quo will not be disturbed at Ayodhya; s...</td>\n",
              "      <td>0.282333</td>\n",
              "      <td>0.151333</td>\n",
              "      <td>-0.9811</td>\n",
              "      <td>0.122</td>\n",
              "      <td>0.807</td>\n",
              "      <td>0.071</td>\n",
              "    </tr>\n",
              "    <tr>\n",
              "      <th>1</th>\n",
              "      <td>2001-01-03</td>\n",
              "      <td>1.437500</td>\n",
              "      <td>1.437500</td>\n",
              "      <td>1.437500</td>\n",
              "      <td>1.437500</td>\n",
              "      <td>1.294107</td>\n",
              "      <td>18300</td>\n",
              "      <td>Powerless north India gropes in the dark Think...</td>\n",
              "      <td>0.407692</td>\n",
              "      <td>0.088462</td>\n",
              "      <td>-0.2640</td>\n",
              "      <td>0.122</td>\n",
              "      <td>0.766</td>\n",
              "      <td>0.111</td>\n",
              "    </tr>\n",
              "    <tr>\n",
              "      <th>2</th>\n",
              "      <td>2001-01-04</td>\n",
              "      <td>1.312500</td>\n",
              "      <td>1.562500</td>\n",
              "      <td>1.312500</td>\n",
              "      <td>1.500000</td>\n",
              "      <td>1.350373</td>\n",
              "      <td>17700</td>\n",
              "      <td>The string that pulled Stephen Hawking to Indi...</td>\n",
              "      <td>0.446847</td>\n",
              "      <td>0.087961</td>\n",
              "      <td>0.8738</td>\n",
              "      <td>0.100</td>\n",
              "      <td>0.797</td>\n",
              "      <td>0.103</td>\n",
              "    </tr>\n",
              "    <tr>\n",
              "      <th>3</th>\n",
              "      <td>2001-01-05</td>\n",
              "      <td>1.500000</td>\n",
              "      <td>1.687500</td>\n",
              "      <td>1.500000</td>\n",
              "      <td>1.687500</td>\n",
              "      <td>1.519169</td>\n",
              "      <td>13000</td>\n",
              "      <td>Light combat craft takes India into club class...</td>\n",
              "      <td>0.476612</td>\n",
              "      <td>0.262024</td>\n",
              "      <td>0.9633</td>\n",
              "      <td>0.124</td>\n",
              "      <td>0.722</td>\n",
              "      <td>0.154</td>\n",
              "    </tr>\n",
              "    <tr>\n",
              "      <th>4</th>\n",
              "      <td>2001-01-08</td>\n",
              "      <td>1.687500</td>\n",
              "      <td>2.000000</td>\n",
              "      <td>1.687500</td>\n",
              "      <td>2.000000</td>\n",
              "      <td>1.800497</td>\n",
              "      <td>60200</td>\n",
              "      <td>Sangh Parivar; Babri panel up the ante Frontru...</td>\n",
              "      <td>0.414653</td>\n",
              "      <td>-0.019214</td>\n",
              "      <td>-0.9779</td>\n",
              "      <td>0.121</td>\n",
              "      <td>0.812</td>\n",
              "      <td>0.066</td>\n",
              "    </tr>\n",
              "    <tr>\n",
              "      <th>...</th>\n",
              "      <td>...</td>\n",
              "      <td>...</td>\n",
              "      <td>...</td>\n",
              "      <td>...</td>\n",
              "      <td>...</td>\n",
              "      <td>...</td>\n",
              "      <td>...</td>\n",
              "      <td>...</td>\n",
              "      <td>...</td>\n",
              "      <td>...</td>\n",
              "      <td>...</td>\n",
              "      <td>...</td>\n",
              "      <td>...</td>\n",
              "      <td>...</td>\n",
              "    </tr>\n",
              "    <tr>\n",
              "      <th>4999</th>\n",
              "      <td>2020-12-24</td>\n",
              "      <td>30.709999</td>\n",
              "      <td>30.950001</td>\n",
              "      <td>30.280001</td>\n",
              "      <td>30.840000</td>\n",
              "      <td>30.672073</td>\n",
              "      <td>29900</td>\n",
              "      <td>How to set the mood for sex during cold winter...</td>\n",
              "      <td>0.390942</td>\n",
              "      <td>0.048166</td>\n",
              "      <td>-0.9988</td>\n",
              "      <td>0.092</td>\n",
              "      <td>0.842</td>\n",
              "      <td>0.066</td>\n",
              "    </tr>\n",
              "    <tr>\n",
              "      <th>5000</th>\n",
              "      <td>2020-12-28</td>\n",
              "      <td>31.000000</td>\n",
              "      <td>31.590000</td>\n",
              "      <td>30.990000</td>\n",
              "      <td>31.400000</td>\n",
              "      <td>31.229023</td>\n",
              "      <td>86500</td>\n",
              "      <td>Horoscope Today; 28 December 2020: Check astro...</td>\n",
              "      <td>0.412945</td>\n",
              "      <td>0.070517</td>\n",
              "      <td>-0.9998</td>\n",
              "      <td>0.137</td>\n",
              "      <td>0.771</td>\n",
              "      <td>0.092</td>\n",
              "    </tr>\n",
              "    <tr>\n",
              "      <th>5001</th>\n",
              "      <td>2020-12-29</td>\n",
              "      <td>31.299999</td>\n",
              "      <td>31.750000</td>\n",
              "      <td>30.420000</td>\n",
              "      <td>30.760000</td>\n",
              "      <td>30.592508</td>\n",
              "      <td>80400</td>\n",
              "      <td>Man recovers charred remains of 'thief' from h...</td>\n",
              "      <td>0.424021</td>\n",
              "      <td>0.061210</td>\n",
              "      <td>-0.9999</td>\n",
              "      <td>0.148</td>\n",
              "      <td>0.758</td>\n",
              "      <td>0.094</td>\n",
              "    </tr>\n",
              "    <tr>\n",
              "      <th>5002</th>\n",
              "      <td>2020-12-30</td>\n",
              "      <td>31.059999</td>\n",
              "      <td>31.670000</td>\n",
              "      <td>30.889999</td>\n",
              "      <td>30.940001</td>\n",
              "      <td>30.771528</td>\n",
              "      <td>46500</td>\n",
              "      <td>Numerology Readings 30 December 2020: Predicti...</td>\n",
              "      <td>0.441660</td>\n",
              "      <td>0.043496</td>\n",
              "      <td>-0.9999</td>\n",
              "      <td>0.141</td>\n",
              "      <td>0.780</td>\n",
              "      <td>0.079</td>\n",
              "    </tr>\n",
              "    <tr>\n",
              "      <th>5003</th>\n",
              "      <td>2020-12-31</td>\n",
              "      <td>31.000000</td>\n",
              "      <td>31.540001</td>\n",
              "      <td>30.910000</td>\n",
              "      <td>31.320000</td>\n",
              "      <td>31.149458</td>\n",
              "      <td>53200</td>\n",
              "      <td>Horoscope Today; 31 December 2020: Check astro...</td>\n",
              "      <td>0.406220</td>\n",
              "      <td>0.091373</td>\n",
              "      <td>-0.9998</td>\n",
              "      <td>0.136</td>\n",
              "      <td>0.766</td>\n",
              "      <td>0.098</td>\n",
              "    </tr>\n",
              "  </tbody>\n",
              "</table>\n",
              "<p>5004 rows × 14 columns</p>\n",
              "</div>"
            ],
            "text/plain": [
              "           Date       Open       High  ...  Negative  Neutral  Positive\n",
              "0    2001-01-02   1.437500   1.562500  ...     0.122    0.807     0.071\n",
              "1    2001-01-03   1.437500   1.437500  ...     0.122    0.766     0.111\n",
              "2    2001-01-04   1.312500   1.562500  ...     0.100    0.797     0.103\n",
              "3    2001-01-05   1.500000   1.687500  ...     0.124    0.722     0.154\n",
              "4    2001-01-08   1.687500   2.000000  ...     0.121    0.812     0.066\n",
              "...         ...        ...        ...  ...       ...      ...       ...\n",
              "4999 2020-12-24  30.709999  30.950001  ...     0.092    0.842     0.066\n",
              "5000 2020-12-28  31.000000  31.590000  ...     0.137    0.771     0.092\n",
              "5001 2020-12-29  31.299999  31.750000  ...     0.148    0.758     0.094\n",
              "5002 2020-12-30  31.059999  31.670000  ...     0.141    0.780     0.079\n",
              "5003 2020-12-31  31.000000  31.540001  ...     0.136    0.766     0.098\n",
              "\n",
              "[5004 rows x 14 columns]"
            ]
          },
          "metadata": {
            "tags": []
          },
          "execution_count": 119
        }
      ]
    },
    {
      "cell_type": "code",
      "metadata": {
        "colab": {
          "base_uri": "https://localhost:8080/",
          "height": 402
        },
        "id": "itDTxxQ_D70F",
        "outputId": "b08e2e9e-4048-4407-9a1c-bb71bccda086"
      },
      "source": [
        "df = df_merge[['Close','Subjectivity', 'Polarity', 'Compound', 'Negative', 'Neutral' ,'Positive']]\n",
        "df"
      ],
      "execution_count": 120,
      "outputs": [
        {
          "output_type": "execute_result",
          "data": {
            "text/html": [
              "<div>\n",
              "<style scoped>\n",
              "    .dataframe tbody tr th:only-of-type {\n",
              "        vertical-align: middle;\n",
              "    }\n",
              "\n",
              "    .dataframe tbody tr th {\n",
              "        vertical-align: top;\n",
              "    }\n",
              "\n",
              "    .dataframe thead th {\n",
              "        text-align: right;\n",
              "    }\n",
              "</style>\n",
              "<table border=\"1\" class=\"dataframe\">\n",
              "  <thead>\n",
              "    <tr style=\"text-align: right;\">\n",
              "      <th></th>\n",
              "      <th>Close</th>\n",
              "      <th>Subjectivity</th>\n",
              "      <th>Polarity</th>\n",
              "      <th>Compound</th>\n",
              "      <th>Negative</th>\n",
              "      <th>Neutral</th>\n",
              "      <th>Positive</th>\n",
              "    </tr>\n",
              "  </thead>\n",
              "  <tbody>\n",
              "    <tr>\n",
              "      <th>0</th>\n",
              "      <td>1.437500</td>\n",
              "      <td>0.282333</td>\n",
              "      <td>0.151333</td>\n",
              "      <td>-0.9811</td>\n",
              "      <td>0.122</td>\n",
              "      <td>0.807</td>\n",
              "      <td>0.071</td>\n",
              "    </tr>\n",
              "    <tr>\n",
              "      <th>1</th>\n",
              "      <td>1.437500</td>\n",
              "      <td>0.407692</td>\n",
              "      <td>0.088462</td>\n",
              "      <td>-0.2640</td>\n",
              "      <td>0.122</td>\n",
              "      <td>0.766</td>\n",
              "      <td>0.111</td>\n",
              "    </tr>\n",
              "    <tr>\n",
              "      <th>2</th>\n",
              "      <td>1.500000</td>\n",
              "      <td>0.446847</td>\n",
              "      <td>0.087961</td>\n",
              "      <td>0.8738</td>\n",
              "      <td>0.100</td>\n",
              "      <td>0.797</td>\n",
              "      <td>0.103</td>\n",
              "    </tr>\n",
              "    <tr>\n",
              "      <th>3</th>\n",
              "      <td>1.687500</td>\n",
              "      <td>0.476612</td>\n",
              "      <td>0.262024</td>\n",
              "      <td>0.9633</td>\n",
              "      <td>0.124</td>\n",
              "      <td>0.722</td>\n",
              "      <td>0.154</td>\n",
              "    </tr>\n",
              "    <tr>\n",
              "      <th>4</th>\n",
              "      <td>2.000000</td>\n",
              "      <td>0.414653</td>\n",
              "      <td>-0.019214</td>\n",
              "      <td>-0.9779</td>\n",
              "      <td>0.121</td>\n",
              "      <td>0.812</td>\n",
              "      <td>0.066</td>\n",
              "    </tr>\n",
              "    <tr>\n",
              "      <th>...</th>\n",
              "      <td>...</td>\n",
              "      <td>...</td>\n",
              "      <td>...</td>\n",
              "      <td>...</td>\n",
              "      <td>...</td>\n",
              "      <td>...</td>\n",
              "      <td>...</td>\n",
              "    </tr>\n",
              "    <tr>\n",
              "      <th>4999</th>\n",
              "      <td>30.840000</td>\n",
              "      <td>0.390942</td>\n",
              "      <td>0.048166</td>\n",
              "      <td>-0.9988</td>\n",
              "      <td>0.092</td>\n",
              "      <td>0.842</td>\n",
              "      <td>0.066</td>\n",
              "    </tr>\n",
              "    <tr>\n",
              "      <th>5000</th>\n",
              "      <td>31.400000</td>\n",
              "      <td>0.412945</td>\n",
              "      <td>0.070517</td>\n",
              "      <td>-0.9998</td>\n",
              "      <td>0.137</td>\n",
              "      <td>0.771</td>\n",
              "      <td>0.092</td>\n",
              "    </tr>\n",
              "    <tr>\n",
              "      <th>5001</th>\n",
              "      <td>30.760000</td>\n",
              "      <td>0.424021</td>\n",
              "      <td>0.061210</td>\n",
              "      <td>-0.9999</td>\n",
              "      <td>0.148</td>\n",
              "      <td>0.758</td>\n",
              "      <td>0.094</td>\n",
              "    </tr>\n",
              "    <tr>\n",
              "      <th>5002</th>\n",
              "      <td>30.940001</td>\n",
              "      <td>0.441660</td>\n",
              "      <td>0.043496</td>\n",
              "      <td>-0.9999</td>\n",
              "      <td>0.141</td>\n",
              "      <td>0.780</td>\n",
              "      <td>0.079</td>\n",
              "    </tr>\n",
              "    <tr>\n",
              "      <th>5003</th>\n",
              "      <td>31.320000</td>\n",
              "      <td>0.406220</td>\n",
              "      <td>0.091373</td>\n",
              "      <td>-0.9998</td>\n",
              "      <td>0.136</td>\n",
              "      <td>0.766</td>\n",
              "      <td>0.098</td>\n",
              "    </tr>\n",
              "  </tbody>\n",
              "</table>\n",
              "<p>5004 rows × 7 columns</p>\n",
              "</div>"
            ],
            "text/plain": [
              "          Close  Subjectivity  Polarity  Compound  Negative  Neutral  Positive\n",
              "0      1.437500      0.282333  0.151333   -0.9811     0.122    0.807     0.071\n",
              "1      1.437500      0.407692  0.088462   -0.2640     0.122    0.766     0.111\n",
              "2      1.500000      0.446847  0.087961    0.8738     0.100    0.797     0.103\n",
              "3      1.687500      0.476612  0.262024    0.9633     0.124    0.722     0.154\n",
              "4      2.000000      0.414653 -0.019214   -0.9779     0.121    0.812     0.066\n",
              "...         ...           ...       ...       ...       ...      ...       ...\n",
              "4999  30.840000      0.390942  0.048166   -0.9988     0.092    0.842     0.066\n",
              "5000  31.400000      0.412945  0.070517   -0.9998     0.137    0.771     0.092\n",
              "5001  30.760000      0.424021  0.061210   -0.9999     0.148    0.758     0.094\n",
              "5002  30.940001      0.441660  0.043496   -0.9999     0.141    0.780     0.079\n",
              "5003  31.320000      0.406220  0.091373   -0.9998     0.136    0.766     0.098\n",
              "\n",
              "[5004 rows x 7 columns]"
            ]
          },
          "metadata": {
            "tags": []
          },
          "execution_count": 120
        }
      ]
    },
    {
      "cell_type": "code",
      "metadata": {
        "id": "X1ONZTCqU6Lf",
        "colab": {
          "base_uri": "https://localhost:8080/",
          "height": 195
        },
        "outputId": "43c8aed5-f677-47ae-9466-91e8f6a8b6e3"
      },
      "source": [
        "from sklearn.preprocessing import MinMaxScaler\n",
        "sc = MinMaxScaler()\n",
        "new_df = pd.DataFrame(sc.fit_transform(df))\n",
        "new_df.columns = df.columns\n",
        "new_df.index = df.index\n",
        "new_df.head()"
      ],
      "execution_count": 121,
      "outputs": [
        {
          "output_type": "execute_result",
          "data": {
            "text/html": [
              "<div>\n",
              "<style scoped>\n",
              "    .dataframe tbody tr th:only-of-type {\n",
              "        vertical-align: middle;\n",
              "    }\n",
              "\n",
              "    .dataframe tbody tr th {\n",
              "        vertical-align: top;\n",
              "    }\n",
              "\n",
              "    .dataframe thead th {\n",
              "        text-align: right;\n",
              "    }\n",
              "</style>\n",
              "<table border=\"1\" class=\"dataframe\">\n",
              "  <thead>\n",
              "    <tr style=\"text-align: right;\">\n",
              "      <th></th>\n",
              "      <th>Close</th>\n",
              "      <th>Subjectivity</th>\n",
              "      <th>Polarity</th>\n",
              "      <th>Compound</th>\n",
              "      <th>Negative</th>\n",
              "      <th>Neutral</th>\n",
              "      <th>Positive</th>\n",
              "    </tr>\n",
              "  </thead>\n",
              "  <tbody>\n",
              "    <tr>\n",
              "      <th>0</th>\n",
              "      <td>0.000917</td>\n",
              "      <td>0.282333</td>\n",
              "      <td>0.524545</td>\n",
              "      <td>0.00945</td>\n",
              "      <td>0.274775</td>\n",
              "      <td>0.807</td>\n",
              "      <td>0.116776</td>\n",
              "    </tr>\n",
              "    <tr>\n",
              "      <th>1</th>\n",
              "      <td>0.000917</td>\n",
              "      <td>0.407692</td>\n",
              "      <td>0.438811</td>\n",
              "      <td>0.36800</td>\n",
              "      <td>0.274775</td>\n",
              "      <td>0.766</td>\n",
              "      <td>0.182566</td>\n",
              "    </tr>\n",
              "    <tr>\n",
              "      <th>2</th>\n",
              "      <td>0.003001</td>\n",
              "      <td>0.446847</td>\n",
              "      <td>0.438129</td>\n",
              "      <td>0.93690</td>\n",
              "      <td>0.225225</td>\n",
              "      <td>0.797</td>\n",
              "      <td>0.169408</td>\n",
              "    </tr>\n",
              "    <tr>\n",
              "      <th>3</th>\n",
              "      <td>0.009253</td>\n",
              "      <td>0.476612</td>\n",
              "      <td>0.675488</td>\n",
              "      <td>0.98165</td>\n",
              "      <td>0.279279</td>\n",
              "      <td>0.722</td>\n",
              "      <td>0.253289</td>\n",
              "    </tr>\n",
              "    <tr>\n",
              "      <th>4</th>\n",
              "      <td>0.019673</td>\n",
              "      <td>0.414653</td>\n",
              "      <td>0.291981</td>\n",
              "      <td>0.01105</td>\n",
              "      <td>0.272523</td>\n",
              "      <td>0.812</td>\n",
              "      <td>0.108553</td>\n",
              "    </tr>\n",
              "  </tbody>\n",
              "</table>\n",
              "</div>"
            ],
            "text/plain": [
              "      Close  Subjectivity  Polarity  Compound  Negative  Neutral  Positive\n",
              "0  0.000917      0.282333  0.524545   0.00945  0.274775    0.807  0.116776\n",
              "1  0.000917      0.407692  0.438811   0.36800  0.274775    0.766  0.182566\n",
              "2  0.003001      0.446847  0.438129   0.93690  0.225225    0.797  0.169408\n",
              "3  0.009253      0.476612  0.675488   0.98165  0.279279    0.722  0.253289\n",
              "4  0.019673      0.414653  0.291981   0.01105  0.272523    0.812  0.108553"
            ]
          },
          "metadata": {
            "tags": []
          },
          "execution_count": 121
        }
      ]
    },
    {
      "cell_type": "code",
      "metadata": {
        "id": "9KH4lsGFwIEy"
      },
      "source": [
        "X = new_df.drop('Close', axis=1)\n",
        "y =new_df['Close']"
      ],
      "execution_count": 122,
      "outputs": []
    },
    {
      "cell_type": "code",
      "metadata": {
        "colab": {
          "base_uri": "https://localhost:8080/",
          "height": 195
        },
        "id": "G5zg9wHvwKde",
        "outputId": "1e0e0760-a896-4a2d-b81e-8a994df3f279"
      },
      "source": [
        "X.head()\n"
      ],
      "execution_count": 123,
      "outputs": [
        {
          "output_type": "execute_result",
          "data": {
            "text/html": [
              "<div>\n",
              "<style scoped>\n",
              "    .dataframe tbody tr th:only-of-type {\n",
              "        vertical-align: middle;\n",
              "    }\n",
              "\n",
              "    .dataframe tbody tr th {\n",
              "        vertical-align: top;\n",
              "    }\n",
              "\n",
              "    .dataframe thead th {\n",
              "        text-align: right;\n",
              "    }\n",
              "</style>\n",
              "<table border=\"1\" class=\"dataframe\">\n",
              "  <thead>\n",
              "    <tr style=\"text-align: right;\">\n",
              "      <th></th>\n",
              "      <th>Subjectivity</th>\n",
              "      <th>Polarity</th>\n",
              "      <th>Compound</th>\n",
              "      <th>Negative</th>\n",
              "      <th>Neutral</th>\n",
              "      <th>Positive</th>\n",
              "    </tr>\n",
              "  </thead>\n",
              "  <tbody>\n",
              "    <tr>\n",
              "      <th>0</th>\n",
              "      <td>0.282333</td>\n",
              "      <td>0.524545</td>\n",
              "      <td>0.00945</td>\n",
              "      <td>0.274775</td>\n",
              "      <td>0.807</td>\n",
              "      <td>0.116776</td>\n",
              "    </tr>\n",
              "    <tr>\n",
              "      <th>1</th>\n",
              "      <td>0.407692</td>\n",
              "      <td>0.438811</td>\n",
              "      <td>0.36800</td>\n",
              "      <td>0.274775</td>\n",
              "      <td>0.766</td>\n",
              "      <td>0.182566</td>\n",
              "    </tr>\n",
              "    <tr>\n",
              "      <th>2</th>\n",
              "      <td>0.446847</td>\n",
              "      <td>0.438129</td>\n",
              "      <td>0.93690</td>\n",
              "      <td>0.225225</td>\n",
              "      <td>0.797</td>\n",
              "      <td>0.169408</td>\n",
              "    </tr>\n",
              "    <tr>\n",
              "      <th>3</th>\n",
              "      <td>0.476612</td>\n",
              "      <td>0.675488</td>\n",
              "      <td>0.98165</td>\n",
              "      <td>0.279279</td>\n",
              "      <td>0.722</td>\n",
              "      <td>0.253289</td>\n",
              "    </tr>\n",
              "    <tr>\n",
              "      <th>4</th>\n",
              "      <td>0.414653</td>\n",
              "      <td>0.291981</td>\n",
              "      <td>0.01105</td>\n",
              "      <td>0.272523</td>\n",
              "      <td>0.812</td>\n",
              "      <td>0.108553</td>\n",
              "    </tr>\n",
              "  </tbody>\n",
              "</table>\n",
              "</div>"
            ],
            "text/plain": [
              "   Subjectivity  Polarity  Compound  Negative  Neutral  Positive\n",
              "0      0.282333  0.524545   0.00945  0.274775    0.807  0.116776\n",
              "1      0.407692  0.438811   0.36800  0.274775    0.766  0.182566\n",
              "2      0.446847  0.438129   0.93690  0.225225    0.797  0.169408\n",
              "3      0.476612  0.675488   0.98165  0.279279    0.722  0.253289\n",
              "4      0.414653  0.291981   0.01105  0.272523    0.812  0.108553"
            ]
          },
          "metadata": {
            "tags": []
          },
          "execution_count": 123
        }
      ]
    },
    {
      "cell_type": "code",
      "metadata": {
        "colab": {
          "base_uri": "https://localhost:8080/"
        },
        "id": "kVsSWiX9wOCC",
        "outputId": "51251f60-22b3-41f5-dc26-87e313967cc0"
      },
      "source": [
        "#splitting the data\n",
        "x_train, x_test, y_train, y_test = train_test_split(X, y, test_size=0.2, random_state = 0)"
      ],
      "execution_count": 124,
      "outputs": [
        {
          "output_type": "execute_result",
          "data": {
            "text/plain": [
              "(4003, 6)"
            ]
          },
          "metadata": {
            "tags": []
          },
          "execution_count": 124
        }
      ]
    },
    {
      "cell_type": "markdown",
      "metadata": {
        "id": "Wl-1tdjlwn9x"
      },
      "source": [
        "**Random Forest Regressor**"
      ]
    },
    {
      "cell_type": "code",
      "metadata": {
        "colab": {
          "base_uri": "https://localhost:8080/"
        },
        "id": "2SosDP1HwPvz",
        "outputId": "9059418f-b2dd-4206-a50b-a6dd44ed8e4c"
      },
      "source": [
        "rf = RandomForestRegressor()\n",
        "rf.fit(x_train, y_train)"
      ],
      "execution_count": 126,
      "outputs": [
        {
          "output_type": "execute_result",
          "data": {
            "text/plain": [
              "RandomForestRegressor(bootstrap=True, ccp_alpha=0.0, criterion='mse',\n",
              "                      max_depth=None, max_features='auto', max_leaf_nodes=None,\n",
              "                      max_samples=None, min_impurity_decrease=0.0,\n",
              "                      min_impurity_split=None, min_samples_leaf=1,\n",
              "                      min_samples_split=2, min_weight_fraction_leaf=0.0,\n",
              "                      n_estimators=100, n_jobs=None, oob_score=False,\n",
              "                      random_state=None, verbose=0, warm_start=False)"
            ]
          },
          "metadata": {
            "tags": []
          },
          "execution_count": 126
        }
      ]
    },
    {
      "cell_type": "code",
      "metadata": {
        "colab": {
          "base_uri": "https://localhost:8080/"
        },
        "id": "IS1vtcuEwSf3",
        "outputId": "26793bec-ec41-4092-a8e3-151719de6acc"
      },
      "source": [
        "prediction = rf.predict(x_test)\n",
        "prediction"
      ],
      "execution_count": 129,
      "outputs": [
        {
          "output_type": "execute_result",
          "data": {
            "text/plain": [
              "array([0.13511693, 0.14978104, 0.12844281, ..., 0.62304991, 0.2671944 ,\n",
              "       0.52921141])"
            ]
          },
          "metadata": {
            "tags": []
          },
          "execution_count": 129
        }
      ]
    },
    {
      "cell_type": "code",
      "metadata": {
        "colab": {
          "base_uri": "https://localhost:8080/"
        },
        "id": "OR6NbU_lwbqK",
        "outputId": "d18af78c-6461-445b-9cd2-bd76514994ed"
      },
      "source": [
        "print(prediction[:10])\n",
        "print(y_test[:10])\n",
        "print(mean_squared_error(prediction,y_test))"
      ],
      "execution_count": 130,
      "outputs": [
        {
          "output_type": "stream",
          "text": [
            "[0.13511693 0.14978104 0.12844281 0.34757059 0.59669446 0.11413717\n",
            " 0.14131889 0.1424033  0.67247081 0.1687243 ]\n",
            "1261    0.119373\n",
            "939     0.110704\n",
            "575     0.070690\n",
            "666     0.066022\n",
            "4294    0.889963\n",
            "1657    0.230077\n",
            "1377    0.099033\n",
            "2450    0.122374\n",
            "3855    0.721574\n",
            "2590    0.152051\n",
            "Name: Close, dtype: float64\n",
            "0.03179597757338631\n"
          ],
          "name": "stdout"
        }
      ]
    },
    {
      "cell_type": "markdown",
      "metadata": {
        "id": "7F27cHf3wu6k"
      },
      "source": [
        "**XGboost Regressor**"
      ]
    },
    {
      "cell_type": "code",
      "metadata": {
        "colab": {
          "base_uri": "https://localhost:8080/"
        },
        "id": "zEC9p3vlwzQY",
        "outputId": "4d588491-c1dd-4cbe-b76a-5fd72290617d"
      },
      "source": [
        "xgb = xgboost.XGBRegressor()\n",
        "xgb.fit(x_train, y_train)"
      ],
      "execution_count": 131,
      "outputs": [
        {
          "output_type": "stream",
          "text": [
            "[15:34:55] WARNING: /workspace/src/objective/regression_obj.cu:152: reg:linear is now deprecated in favor of reg:squarederror.\n"
          ],
          "name": "stdout"
        },
        {
          "output_type": "execute_result",
          "data": {
            "text/plain": [
              "XGBRegressor(base_score=0.5, booster='gbtree', colsample_bylevel=1,\n",
              "             colsample_bynode=1, colsample_bytree=1, gamma=0,\n",
              "             importance_type='gain', learning_rate=0.1, max_delta_step=0,\n",
              "             max_depth=3, min_child_weight=1, missing=None, n_estimators=100,\n",
              "             n_jobs=1, nthread=None, objective='reg:linear', random_state=0,\n",
              "             reg_alpha=0, reg_lambda=1, scale_pos_weight=1, seed=None,\n",
              "             silent=None, subsample=1, verbosity=1)"
            ]
          },
          "metadata": {
            "tags": []
          },
          "execution_count": 131
        }
      ]
    },
    {
      "cell_type": "code",
      "metadata": {
        "colab": {
          "base_uri": "https://localhost:8080/"
        },
        "id": "kQ9hXwwxw7pj",
        "outputId": "0b4fe9c5-644d-4850-a3dc-36c3681a6e40"
      },
      "source": [
        "predictions = xgb.predict(x_test)\n",
        "print(mean_squared_error(predictions,y_test))"
      ],
      "execution_count": 132,
      "outputs": [
        {
          "output_type": "stream",
          "text": [
            "0.03502290155708062\n"
          ],
          "name": "stdout"
        }
      ]
    },
    {
      "cell_type": "markdown",
      "metadata": {
        "id": "iWVe09D6wsGB"
      },
      "source": [
        "**Logestic Regressor**"
      ]
    },
    {
      "cell_type": "code",
      "metadata": {
        "id": "l0SBzpRzwgjd"
      },
      "source": [
        "from sklearn.tree import DecisionTreeRegressor\n",
        "dec_tree = DecisionTreeRegressor()\n",
        "dec_tree.fit(x_train, y_train)\n",
        "predictions = dec_tree.predict(x_test)"
      ],
      "execution_count": 133,
      "outputs": []
    },
    {
      "cell_type": "code",
      "metadata": {
        "colab": {
          "base_uri": "https://localhost:8080/"
        },
        "id": "QYKm-KfYxDr8",
        "outputId": "83baf969-8c0f-4343-d1d1-04ca54ff94df"
      },
      "source": [
        "print(predictions[:10])\n",
        "print(y_test[:10])\n",
        "print(mean_squared_error(predictions,y_test))"
      ],
      "execution_count": 134,
      "outputs": [
        {
          "output_type": "stream",
          "text": [
            "[0.1603868  0.13704568 0.17372457 0.11103701 0.24208069 0.07169056\n",
            " 0.11437146 0.07402467 0.79993331 0.12637546]\n",
            "1261    0.119373\n",
            "939     0.110704\n",
            "575     0.070690\n",
            "666     0.066022\n",
            "4294    0.889963\n",
            "1657    0.230077\n",
            "1377    0.099033\n",
            "2450    0.122374\n",
            "3855    0.721574\n",
            "2590    0.152051\n",
            "Name: Close, dtype: float64\n",
            "0.0636346289099957\n"
          ],
          "name": "stdout"
        }
      ]
    },
    {
      "cell_type": "code",
      "metadata": {
        "id": "6YFherO1xFdy"
      },
      "source": [
        ""
      ],
      "execution_count": null,
      "outputs": []
    }
  ]
}